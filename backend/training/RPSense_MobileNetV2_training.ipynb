{
 "cells": [
  {
   "cell_type": "code",
   "execution_count": null,
   "metadata": {
    "colab": {
     "base_uri": "https://localhost:8080/"
    },
    "executionInfo": {
     "elapsed": 35208,
     "status": "ok",
     "timestamp": 1751885389685,
     "user": {
      "displayName": "Akshat",
      "userId": "02656238651709843440"
     },
     "user_tz": -330
    },
    "id": "KhBphInKeK8Z",
    "outputId": "93251f7a-10bd-4603-9c96-39b49e3e9668"
   },
   "outputs": [],
   "source": [
    "from google.colab import drive\n",
    "drive.mount('/content/drive')"
   ]
  },
  {
   "cell_type": "code",
   "execution_count": null,
   "metadata": {
    "colab": {
     "base_uri": "https://localhost:8080/",
     "height": 17
    },
    "executionInfo": {
     "elapsed": 1623,
     "status": "ok",
     "timestamp": 1751882299705,
     "user": {
      "displayName": "Akshat",
      "userId": "02656238651709843440"
     },
     "user_tz": -330
    },
    "id": "Z32x4XAe8gBj",
    "outputId": "5d206578-089e-487e-f763-acccfdb06db2"
   },
   "outputs": [],
   "source": [
    "!pip freeze > requirements.txt\n",
    "from google.colab import files\n",
    "files.download('requirements.txt')\n"
   ]
  },
  {
   "cell_type": "code",
   "execution_count": null,
   "metadata": {
    "colab": {
     "base_uri": "https://localhost:8080/"
    },
    "collapsed": true,
    "executionInfo": {
     "elapsed": 9240,
     "status": "ok",
     "timestamp": 1751882702988,
     "user": {
      "displayName": "Akshat",
      "userId": "02656238651709843440"
     },
     "user_tz": -330
    },
    "id": "80b91GxU82Ts",
    "outputId": "0d79de19-33a0-4161-d369-7f34622a7380"
   },
   "outputs": [],
   "source": [
    "!pip install tensorflow scikit-learn"
   ]
  },
  {
   "cell_type": "markdown",
   "metadata": {
    "id": "ZC6vfSM9oFaC"
   },
   "source": [
    "# Paths"
   ]
  },
  {
   "cell_type": "code",
   "execution_count": null,
   "metadata": {
    "executionInfo": {
     "elapsed": 39,
     "status": "ok",
     "timestamp": 1751885599631,
     "user": {
      "displayName": "Akshat",
      "userId": "02656238651709843440"
     },
     "user_tz": -330
    },
    "id": "tBaSdBU3eeXb"
   },
   "outputs": [],
   "source": [
    "rpsense_train_path = '/content/drive/MyDrive/RPSense_Dataset/dataset/train'\n",
    "rpsense_test_path = '/content/drive/MyDrive/RPSense_Dataset/dataset/test'\n",
    "rpsense_validation_path = '/content/drive/MyDrive/RPSense_Dataset/dataset/validation'\n",
    "\n",
    "classes = ['invalid', 'paper', 'rock', 'scissors']\n"
   ]
  },
  {
   "cell_type": "markdown",
   "metadata": {
    "id": "VjMNjuDDoH63"
   },
   "source": [
    "# Import libraries"
   ]
  },
  {
   "cell_type": "code",
   "execution_count": null,
   "metadata": {
    "executionInfo": {
     "elapsed": 5510,
     "status": "ok",
     "timestamp": 1751885606989,
     "user": {
      "displayName": "Akshat",
      "userId": "02656238651709843440"
     },
     "user_tz": -330
    },
    "id": "gP3BTqcMoNFw"
   },
   "outputs": [],
   "source": [
    "import tensorflow as tf\n",
    "from tensorflow.keras.preprocessing.image import ImageDataGenerator\n",
    "from tensorflow.keras.applications import MobileNetV2\n",
    "from tensorflow.keras.models import Sequential\n",
    "from tensorflow.keras.layers import Dense, GlobalAveragePooling2D, Conv2D, AveragePooling2D, Flatten\n",
    "from tensorflow.keras.models import Model\n",
    "from tensorflow.keras.optimizers import Adam\n",
    "from tensorflow.keras.callbacks import EarlyStopping\n",
    "from tensorflow.keras.callbacks import ModelCheckpoint\n",
    "import matplotlib.pyplot as plt\n",
    "import numpy as np\n",
    "from sklearn.metrics import confusion_matrix, classification_report\n",
    "import seaborn as sns\n",
    "\n",
    "# Define the target image size and batch size\n",
    "IMG_HEIGHT = 224\n",
    "IMG_WIDTH = 224\n",
    "BATCH_SIZE = 32"
   ]
  },
  {
   "cell_type": "markdown",
   "metadata": {
    "id": "siB-9ybk5ShA"
   },
   "source": [
    "Try connecting to TPU"
   ]
  },
  {
   "cell_type": "code",
   "execution_count": null,
   "metadata": {
    "colab": {
     "base_uri": "https://localhost:8080/"
    },
    "executionInfo": {
     "elapsed": 51,
     "status": "ok",
     "timestamp": 1751882310121,
     "user": {
      "displayName": "Akshat",
      "userId": "02656238651709843440"
     },
     "user_tz": -330
    },
    "id": "5y4zRjsj5QhX",
    "outputId": "6e1ab788-6669-413d-ef02-5bcde363851e"
   },
   "outputs": [],
   "source": [
    "try:\n",
    "    tpu = tf.distribute.cluster_resolver.TPUClusterResolver()  # TPU detection\n",
    "    tf.config.experimental_connect_to_cluster(tpu)\n",
    "    tf.tpu.experimental.initialize_tpu_system(tpu)\n",
    "    strategy = tf.distribute.TPUStrategy(tpu)\n",
    "    print(\"✅ Connected to TPU\")\n",
    "except ValueError:\n",
    "    strategy = tf.distribute.get_strategy()  # Default strategy for CPU/GPU\n",
    "    print(\"⚠️ TPU not found, using\", strategy)\n"
   ]
  },
  {
   "cell_type": "markdown",
   "metadata": {
    "id": "9qZ8Tubc-3zh"
   },
   "source": [
    "Try using GPU\n"
   ]
  },
  {
   "cell_type": "code",
   "execution_count": null,
   "metadata": {
    "colab": {
     "base_uri": "https://localhost:8080/"
    },
    "executionInfo": {
     "elapsed": 8,
     "status": "ok",
     "timestamp": 1751885613081,
     "user": {
      "displayName": "Akshat",
      "userId": "02656238651709843440"
     },
     "user_tz": -330
    },
    "id": "ykriBJ-K-5lC",
    "outputId": "3ca7a266-526f-45de-d58f-cc32bbaecdd7"
   },
   "outputs": [],
   "source": [
    "physical_devices = tf.config.list_physical_devices('GPU')\n",
    "if physical_devices:\n",
    "    print(\"✅ GPU detected:\", physical_devices[0].name)\n",
    "else:\n",
    "    print(\"⚠️ No GPU found, using CPU\")\n",
    "\n",
    "strategy = tf.distribute.get_strategy()  # Automatically detects and uses GPU\n",
    "\n",
    "print(\"✅ Using strategy:\", strategy)"
   ]
  },
  {
   "cell_type": "markdown",
   "metadata": {
    "id": "f4ACGeSMoOSv"
   },
   "source": [
    "# Data Augmentation"
   ]
  },
  {
   "cell_type": "code",
   "execution_count": null,
   "metadata": {
    "executionInfo": {
     "elapsed": 18,
     "status": "ok",
     "timestamp": 1751885617335,
     "user": {
      "displayName": "Akshat",
      "userId": "02656238651709843440"
     },
     "user_tz": -330
    },
    "id": "6iwcWDaWoQpY"
   },
   "outputs": [],
   "source": [
    "# Data augmentation for training to improve model generalization\n",
    "train_datagen = ImageDataGenerator(\n",
    "    rescale=1./255,                 # Normalize pixel values to [0, 1]\n",
    "    rotation_range=20,              # Random rotation\n",
    "    width_shift_range=0.2,          # Horizontal shift\n",
    "    height_shift_range=0.2,         # Vertical shift\n",
    "    shear_range=0.2,                # Shearing transformation\n",
    "    zoom_range=0.2,                 # Zoom in/out\n",
    "    horizontal_flip=True,           # Random horizontal flip\n",
    "    fill_mode='nearest'             # Fill pixels after transformations\n",
    ")\n",
    "\n",
    "# For validation and testing: only normalize\n",
    "test_datagen = ImageDataGenerator(rescale=1./255)\n",
    "validation_datagen = ImageDataGenerator(rescale=1./255)\n"
   ]
  },
  {
   "cell_type": "code",
   "execution_count": null,
   "metadata": {
    "colab": {
     "base_uri": "https://localhost:8080/",
     "height": 397
    },
    "executionInfo": {
     "elapsed": 5580,
     "status": "ok",
     "timestamp": 1751809262127,
     "user": {
      "displayName": "Akshat",
      "userId": "02656238651709843440"
     },
     "user_tz": -330
    },
    "id": "VqhJkyKaoT0n",
    "outputId": "c2a68162-4bdb-4f7a-dd44-332c97149b0e"
   },
   "outputs": [],
   "source": [
    "# Show some augmented images\n",
    "x_batch, y_batch = next(\n",
    "    train_datagen.flow_from_directory(\n",
    "        rpsense_train_path,\n",
    "        target_size=(224, 224),\n",
    "        batch_size=16\n",
    "    )\n",
    ")\n",
    "\n",
    "\n",
    "# Plot 8 images from the batch\n",
    "for i in range(8):\n",
    "    plt.subplot(2, 4, i + 1)\n",
    "    plt.imshow(x_batch[i])\n",
    "    plt.axis('off')\n",
    "\n",
    "plt.tight_layout()\n",
    "plt.show()\n"
   ]
  },
  {
   "cell_type": "markdown",
   "metadata": {
    "id": "Hj-FFVrDodAX"
   },
   "source": [
    "# Load dataset"
   ]
  },
  {
   "cell_type": "code",
   "execution_count": null,
   "metadata": {
    "colab": {
     "base_uri": "https://localhost:8080/"
    },
    "executionInfo": {
     "elapsed": 38977,
     "status": "ok",
     "timestamp": 1751885659001,
     "user": {
      "displayName": "Akshat",
      "userId": "02656238651709843440"
     },
     "user_tz": -330
    },
    "id": "OashLyfCogtH",
    "outputId": "fa4df51b-56b2-4c2a-82db-2c5dd5cd6aea"
   },
   "outputs": [],
   "source": [
    "# Load the training dataset\n",
    "train_generator = train_datagen.flow_from_directory(\n",
    "    rpsense_train_path,             # Path to training data\n",
    "    target_size=(IMG_HEIGHT, IMG_WIDTH),  # Resize all images\n",
    "    batch_size=BATCH_SIZE,\n",
    "    class_mode='categorical',       # For multi-class classification\n",
    "    classes=classes,                 # Define class order manually\n",
    "    shuffle=True                    # Shuffle data for each epoch\n",
    ")\n",
    "\n",
    "# Load the validation dataset\n",
    "validation_generator = validation_datagen.flow_from_directory(\n",
    "    rpsense_validation_path,        # Path to validation data\n",
    "    target_size=(IMG_HEIGHT, IMG_WIDTH),\n",
    "    batch_size=BATCH_SIZE,\n",
    "    class_mode='categorical',\n",
    "    classes=classes,\n",
    "    shuffle=False\n",
    ")\n",
    "\n",
    "# Load the test dataset\n",
    "test_generator = test_datagen.flow_from_directory(\n",
    "    rpsense_test_path,              # Path to test data\n",
    "    target_size=(IMG_HEIGHT, IMG_WIDTH),\n",
    "    batch_size=BATCH_SIZE,\n",
    "    class_mode='categorical',\n",
    "    classes=classes\n",
    ")"
   ]
  },
  {
   "cell_type": "markdown",
   "metadata": {
    "id": "agFRuklAojhv"
   },
   "source": [
    "# Load MobileNetV2"
   ]
  },
  {
   "cell_type": "code",
   "execution_count": null,
   "metadata": {
    "colab": {
     "base_uri": "https://localhost:8080/"
    },
    "executionInfo": {
     "elapsed": 2928,
     "status": "ok",
     "timestamp": 1751809768476,
     "user": {
      "displayName": "Akshat",
      "userId": "02656238651709843440"
     },
     "user_tz": -330
    },
    "id": "A3Z7QM81opUH",
    "outputId": "6dd884d1-fbb5-410d-cf93-2be5cd0d3841"
   },
   "outputs": [],
   "source": [
    "# Load MobileNetV2 pre-trained on ImageNet, without the top classification layer\n",
    "base_model = MobileNetV2(\n",
    "    weights='imagenet',\n",
    "    include_top=False,\n",
    "    input_shape=(IMG_HEIGHT, IMG_WIDTH, 3),\n",
    ")\n"
   ]
  },
  {
   "cell_type": "markdown",
   "metadata": {
    "id": "5hKzVnJxoqLv"
   },
   "source": [
    "# Custom classification Layer"
   ]
  },
  {
   "cell_type": "code",
   "execution_count": null,
   "metadata": {
    "id": "-xg6qJikov03"
   },
   "outputs": [],
   "source": [
    "# Add custom classification layers on top of MobileNetV2\n",
    "x = base_model.output\n",
    "x = GlobalAveragePooling2D()(x)         # Reduce feature maps to a single 1D vector per image\n",
    "x = Dense(1024, activation='relu')(x)   # Fully connected layer\n",
    "predictions = Dense(len(classes), activation='softmax')(x)  # Output layer with one node per class\n"
   ]
  },
  {
   "cell_type": "markdown",
   "metadata": {
    "id": "w0McYTE2oxC3"
   },
   "source": [
    "# Create model and freeze base layers"
   ]
  },
  {
   "cell_type": "code",
   "execution_count": null,
   "metadata": {
    "id": "UdhUlOj-ozZA"
   },
   "outputs": [],
   "source": [
    "# Create the full model\n",
    "model = Model(inputs=base_model.input, outputs=predictions)\n",
    "\n",
    "# Freeze all layers of the base MobileNetV2 (we're only training the top layers for now)\n",
    "for layer in base_model.layers:\n",
    "    layer.trainable = False"
   ]
  },
  {
   "cell_type": "markdown",
   "metadata": {
    "id": "HDMfvOrGo1wn"
   },
   "source": [
    "# Compile Model"
   ]
  },
  {
   "cell_type": "code",
   "execution_count": null,
   "metadata": {
    "id": "TPlEGCdso3Xv"
   },
   "outputs": [],
   "source": [
    "# Compile the model with Adam optimizer and categorical crossentropy loss\n",
    "model.compile(\n",
    "    optimizer=Adam(learning_rate=0.001),\n",
    "    loss='categorical_crossentropy',\n",
    "    metrics=['accuracy']\n",
    ")"
   ]
  },
  {
   "cell_type": "markdown",
   "metadata": {
    "id": "fZJMdTYg5bPF"
   },
   "source": [
    "compile in stratergy"
   ]
  },
  {
   "cell_type": "code",
   "execution_count": null,
   "metadata": {
    "colab": {
     "base_uri": "https://localhost:8080/",
     "height": 1000
    },
    "executionInfo": {
     "elapsed": 2847,
     "status": "ok",
     "timestamp": 1751885699022,
     "user": {
      "displayName": "Akshat",
      "userId": "02656238651709843440"
     },
     "user_tz": -330
    },
    "id": "59bC7KYH5dpQ",
    "outputId": "d727d393-e2d4-4c72-f1e7-5cffff5d53ed"
   },
   "outputs": [],
   "source": [
    "with strategy.scope():\n",
    "  base_model = MobileNetV2(\n",
    "  weights='imagenet',\n",
    "  include_top=False,\n",
    "  input_shape=(IMG_HEIGHT, IMG_WIDTH, 3),\n",
    "  )\n",
    "\n",
    "  base_model.trainable = False\n",
    "\n",
    "  x = base_model.output\n",
    "  x = GlobalAveragePooling2D()(x)\n",
    "  x = Dense(1024, activation='relu')(x)\n",
    "  predictions = Dense(len(classes), activation='softmax')(x)\n",
    "\n",
    "  model = Model(inputs=base_model.input, outputs=predictions)\n",
    "\n",
    "  model.compile(\n",
    "  optimizer=Adam(learning_rate=0.001),\n",
    "  loss='categorical_crossentropy',\n",
    "  metrics=['accuracy']\n",
    "  )\n",
    "model.summary()"
   ]
  },
  {
   "cell_type": "markdown",
   "metadata": {
    "id": "bV1O7jAY62Qd"
   },
   "source": [
    "# Configure Early Stopping and ModelCheckpoint\n"
   ]
  },
  {
   "cell_type": "code",
   "execution_count": null,
   "metadata": {
    "executionInfo": {
     "elapsed": 40,
     "status": "ok",
     "timestamp": 1751885741464,
     "user": {
      "displayName": "Akshat",
      "userId": "02656238651709843440"
     },
     "user_tz": -330
    },
    "id": "YLz0CQD86yja"
   },
   "outputs": [],
   "source": [
    "early_stop = EarlyStopping(\n",
    "    monitor='val_loss',       # Or 'val_accuracy'\n",
    "    patience=5,               # Stop if no improvement after 5 epochs\n",
    "    restore_best_weights=True  # Load best model weights at end\n",
    ")\n",
    "\n",
    "checkpoint = ModelCheckpoint(\n",
    "    'best_rpsense_model.h5',\n",
    "    monitor='val_loss',\n",
    "    save_best_only=True\n",
    ")"
   ]
  },
  {
   "cell_type": "markdown",
   "metadata": {
    "id": "2APEhauHo6MX"
   },
   "source": [
    "# Train"
   ]
  },
  {
   "cell_type": "markdown",
   "metadata": {
    "id": "hWfgvajcUN5u"
   },
   "source": [
    "train on random 1000 per epoch"
   ]
  },
  {
   "cell_type": "code",
   "execution_count": null,
   "metadata": {
    "colab": {
     "base_uri": "https://localhost:8080/"
    },
    "id": "EXfXMqb8o7lv",
    "outputId": "65dd2de6-e21e-4082-c4b4-fc50f069499d"
   },
   "outputs": [],
   "source": [
    "# Train the model using the training and validation data\n",
    "EPOCHS = 10\n",
    "# Train using only 1000 images for each class.\n",
    "train_steps = 1000 // BATCH_SIZE\n",
    "val_steps = 300 // BATCH_SIZE\n",
    "\n",
    "history = model.fit(\n",
    "    train_generator,\n",
    "    epochs=EPOCHS,\n",
    "    validation_data=validation_generator,\n",
    "    callbacks=[early_stop, checkpoint],\n",
    "    validation_steps=val_steps,\n",
    "    steps_per_epoch=train_steps\n",
    ")\n",
    "\n",
    "model_save_path = '/content/drive/MyDrive/RPSense_Dataset/mobilenetv2_rpsense.h5'\n",
    "# Save the trained model to disk\n",
    "model.save(model_save_path)"
   ]
  },
  {
   "cell_type": "markdown",
   "metadata": {
    "id": "UqrlBJwqURFW"
   },
   "source": [
    "train on all images per epoch"
   ]
  },
  {
   "cell_type": "code",
   "execution_count": null,
   "metadata": {
    "id": "XviNUmutUT9B"
   },
   "outputs": [],
   "source": [
    "# Train the model using the training and validation data\n",
    "EPOCHS = 50\n",
    "\n",
    "history = model.fit(\n",
    "    train_generator,\n",
    "    epochs=EPOCHS,\n",
    "    validation_data=validation_generator,\n",
    "    callbacks=[early_stop, checkpoint],\n",
    ")\n",
    "\n",
    "model_save_path = '/content/drive/MyDrive/RPSense_Dataset/CNN_lenet5_rpsense.h5'\n",
    "# Save the trained model to disk\n",
    "model.save(model_save_path)"
   ]
  },
  {
   "cell_type": "markdown",
   "metadata": {
    "id": "K_DA7sYUo9wn"
   },
   "source": [
    "# Evaluate on Test set"
   ]
  },
  {
   "cell_type": "code",
   "execution_count": null,
   "metadata": {
    "id": "Ts_GvD_Ee0_L"
   },
   "outputs": [],
   "source": [
    "# Evaluate the trained model on the test dataset\n",
    "test_loss, test_acc = model.evaluate(test_generator)\n",
    "print(f\"✅ Test Accuracy: {test_acc:.4f}, Test Loss: {test_loss:.4f}\")"
   ]
  },
  {
   "cell_type": "code",
   "execution_count": null,
   "metadata": {
    "id": "0UXoOJQ6ASJ2"
   },
   "outputs": [],
   "source": [
    "# Plot Accuracy\n",
    "plt.plot(history.history['accuracy'], label='Train Accuracy')\n",
    "plt.plot(history.history['val_accuracy'], label='Val Accuracy')\n",
    "plt.title('Model Accuracy')\n",
    "plt.xlabel('Epoch')\n",
    "plt.ylabel('Accuracy')\n",
    "plt.legend()\n",
    "plt.grid(True)\n",
    "plt.show()\n",
    "\n",
    "# Plot Loss\n",
    "plt.plot(history.history['loss'], label='Train Loss')\n",
    "plt.plot(history.history['val_loss'], label='Val Loss')\n",
    "plt.title('Model Loss')\n",
    "plt.xlabel('Epoch')\n",
    "plt.ylabel('Loss')\n",
    "plt.legend()\n",
    "plt.grid(True)\n",
    "plt.show()\n"
   ]
  },
  {
   "cell_type": "code",
   "execution_count": null,
   "metadata": {
    "id": "zmQfIYKbBIzJ"
   },
   "outputs": [],
   "source": [
    "# Get true labels\n",
    "y_true = test_generator.classes\n",
    "\n",
    "# Get predicted labels\n",
    "y_pred_probs = model.predict(test_generator)\n",
    "y_pred = np.argmax(y_pred_probs, axis=1)\n",
    "\n",
    "# Class names from the generator\n",
    "class_names = list(test_generator.class_indices.keys())\n",
    "\n",
    "# Confusion Matrix for Test dataset\n",
    "cm = confusion_matrix(y_true, y_pred)\n",
    "\n",
    "plt.figure(figsize=(8, 6))\n",
    "sns.heatmap(cm, annot=True, fmt='d', cmap='Blues', xticklabels=class_names, yticklabels=class_names)\n",
    "plt.title('Confusion Matrix - Test Data')\n",
    "plt.xlabel('Predicted Label')\n",
    "plt.ylabel('True Label')\n",
    "plt.show()\n"
   ]
  },
  {
   "cell_type": "code",
   "execution_count": null,
   "metadata": {
    "id": "CMY-sNosBVzy"
   },
   "outputs": [],
   "source": [
    "# Confusion Matrix for Train dataset\n",
    "y_train_true = train_generator.classes\n",
    "y_train_pred = np.argmax(model.predict(train_generator), axis=1)\n",
    "\n",
    "cm_train = confusion_matrix(y_train_true, y_train_pred)\n",
    "plt.figure(figsize=(8, 6))\n",
    "sns.heatmap(cm_train, annot=True, fmt='d', cmap='Greens',\n",
    "            xticklabels=class_names, yticklabels=class_names)\n",
    "plt.title('Confusion Matrix - Train Data')\n",
    "plt.xlabel('Predicted Label')\n",
    "plt.ylabel('True Label')\n",
    "plt.show()\n"
   ]
  },
  {
   "cell_type": "code",
   "execution_count": null,
   "metadata": {
    "id": "BOGdLzA4Bp5A"
   },
   "outputs": [],
   "source": [
    "print(\"Classification Report (Test):\")\n",
    "print(classification_report(y_true, y_pred, target_names=class_names))\n"
   ]
  },
  {
   "cell_type": "code",
   "execution_count": null,
   "metadata": {
    "id": "b2BVT9wcBqm0"
   },
   "outputs": [],
   "source": [
    "print(\"Classification Report (Train):\")\n",
    "print(classification_report(y_train_true, y_train_pred, target_names=class_names))\n"
   ]
  }
 ],
 "metadata": {
  "accelerator": "GPU",
  "colab": {
   "authorship_tag": "ABX9TyPAio9FSCHU+s1mtW6uquac",
   "gpuType": "T4",
   "provenance": []
  },
  "kernelspec": {
   "display_name": "Python 3",
   "name": "python3"
  },
  "language_info": {
   "name": "python"
  }
 },
 "nbformat": 4,
 "nbformat_minor": 0
}
