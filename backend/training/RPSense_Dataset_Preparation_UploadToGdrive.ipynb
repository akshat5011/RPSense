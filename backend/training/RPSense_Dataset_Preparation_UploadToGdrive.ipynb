{
 "cells": [
  {
   "cell_type": "code",
   "execution_count": null,
   "metadata": {
    "id": "0s_UgtFh_FXl"
   },
   "outputs": [],
   "source": [
    "# # Dataset Links\n",
    "# https://www.kaggle.com/datasets/sanikamal/rock-paper-scissors-dataset\n",
    "\n",
    "# https://www.kaggle.com/datasets/drgfreeman/rockpaperscissors\n",
    "\n",
    "# https://www.kaggle.com/datasets/shedovanatya/rock-paper-scissors-dataset     has labels bounding box\n",
    "\n",
    "# https://www.kaggle.com/datasets/andy8744/synthetic-rock-paper-scissors-dataset\n",
    "\n",
    "# https://www.kaggle.com/datasets/jamaicakayelopez/rock-paper-scissors\n",
    "\n",
    "# https://www.kaggle.com/datasets/chalanthorn/rockpaperscissors       has labels bounding box\n",
    "\n",
    "# https://www.tensorflow.org/datasets/catalog/rock_paper_scissors"
   ]
  },
  {
   "cell_type": "code",
   "execution_count": null,
   "metadata": {
    "colab": {
     "base_uri": "https://localhost:8080/"
    },
    "executionInfo": {
     "elapsed": 14515,
     "status": "ok",
     "timestamp": 1751773910968,
     "user": {
      "displayName": "Akshat",
      "userId": "02656238651709843440"
     },
     "user_tz": -330
    },
    "id": "MuB-DH9z2iXE",
    "outputId": "71fd5537-a20e-4e3c-c376-1898c42ed326"
   },
   "outputs": [],
   "source": [
    "!pip install kagglehub"
   ]
  },
  {
   "cell_type": "code",
   "execution_count": null,
   "metadata": {
    "id": "58ZuJ6-kG-kp"
   },
   "outputs": [],
   "source": [
    "from google.colab import drive\n",
    "drive.mount('/content/drive')\n"
   ]
  },
  {
   "cell_type": "code",
   "execution_count": null,
   "metadata": {
    "id": "RBHdiCgOHDQY"
   },
   "outputs": [],
   "source": [
    "import os\n",
    "os.makedirs('/content/drive/MyDrive/RPSense_Dataset', exist_ok=True)\n"
   ]
  },
  {
   "cell_type": "code",
   "execution_count": null,
   "metadata": {
    "colab": {
     "base_uri": "https://localhost:8080/",
     "height": 106
    },
    "executionInfo": {
     "elapsed": 47,
     "status": "error",
     "timestamp": 1751744558179,
     "user": {
      "displayName": "Akshat",
      "userId": "02656238651709843440"
     },
     "user_tz": -330
    },
    "id": "x_4ydfh8HGl_",
    "outputId": "bcf27e24-073f-4624-a34e-6b97b35e197b"
   },
   "outputs": [],
   "source": [
    "!cp -r dataset/ /content/drive/MyDrive/RPSense_Dataset/\n",
    "\n",
    "\n",
    "# # if zipped\n",
    "# !zip -r RPSense_Dataset.zip dataset/\n",
    "# !cp RPSense_Dataset.zip /content/drive/MyDrive/\n"
   ]
  },
  {
   "cell_type": "markdown",
   "metadata": {
    "id": "CJJ2OqYV3MZt"
   },
   "source": [
    "create directory\n"
   ]
  },
  {
   "cell_type": "code",
   "execution_count": null,
   "metadata": {
    "colab": {
     "base_uri": "https://localhost:8080/"
    },
    "executionInfo": {
     "elapsed": 209,
     "status": "ok",
     "timestamp": 1751785674338,
     "user": {
      "displayName": "Akshat",
      "userId": "02656238651709843440"
     },
     "user_tz": -330
    },
    "id": "dKTnr3ZhFZ14",
    "outputId": "49280098-bcd3-4540-c738-0cad227983c9"
   },
   "outputs": [],
   "source": [
    "!pwd\n",
    "! mkdir dataset\n"
   ]
  },
  {
   "cell_type": "markdown",
   "metadata": {
    "id": "I7aoNb6i2qKA"
   },
   "source": [
    "# Dataset 1"
   ]
  },
  {
   "cell_type": "code",
   "execution_count": null,
   "metadata": {
    "colab": {
     "base_uri": "https://localhost:8080/"
    },
    "executionInfo": {
     "elapsed": 3886,
     "status": "ok",
     "timestamp": 1751785657979,
     "user": {
      "displayName": "Akshat",
      "userId": "02656238651709843440"
     },
     "user_tz": -330
    },
    "id": "xYoeVTe_CZBI",
    "outputId": "be1ac25e-b76e-4a02-d53b-c24bf7948d20"
   },
   "outputs": [],
   "source": [
    "import kagglehub\n",
    "\n",
    "# Download latest version\n",
    "path = kagglehub.dataset_download(\"sanikamal/rock-paper-scissors-dataset\")\n",
    "\n",
    "print(\"Path to dataset files:\", path)"
   ]
  },
  {
   "cell_type": "code",
   "execution_count": null,
   "metadata": {
    "colab": {
     "base_uri": "https://localhost:8080/",
     "height": 423
    },
    "executionInfo": {
     "elapsed": 1213,
     "status": "ok",
     "timestamp": 1751785661151,
     "user": {
      "displayName": "Akshat",
      "userId": "02656238651709843440"
     },
     "user_tz": -330
    },
    "id": "kmOUi6z5DWVD",
    "outputId": "c1c67dc5-b621-481a-e5cf-650fa83bdc4c"
   },
   "outputs": [],
   "source": [
    "import matplotlib.pyplot as plt\n",
    "import matplotlib.image as mpimg\n",
    "import os\n",
    "\n",
    "image_directory = os.path.join(path,'Rock-Paper-Scissors', 'train', 'paper')\n",
    "image_files = [f for f in os.listdir(image_directory) if os.path.isfile(os.path.join(image_directory, f))]\n",
    "\n",
    "if image_files:\n",
    "    # Choose the first image in the directory\n",
    "    image_path = os.path.join(image_directory, image_files[0])\n",
    "    print(f\"Loading image from: {image_path}\")\n",
    "\n",
    "    # Load and display the image\n",
    "    img = mpimg.imread(image_path)\n",
    "    plt.imshow(img)\n",
    "    plt.axis('off') # Hide axes\n",
    "    plt.show()\n",
    "else:\n",
    "    print(f\"No image files found in {image_directory}\")\n"
   ]
  },
  {
   "cell_type": "code",
   "execution_count": null,
   "metadata": {
    "id": "-TGtfCDm4ZLg"
   },
   "outputs": [],
   "source": [
    "!rsync -a {os.path.join(path, 'Rock-Paper-Scissors', 'train/')}/ /content/dataset/train/\n",
    "!rsync -a {os.path.join(path, 'Rock-Paper-Scissors', 'test/')}/ /content/dataset/test/\n"
   ]
  },
  {
   "cell_type": "markdown",
   "metadata": {
    "id": "RWSN0JXd5Udc"
   },
   "source": [
    "process validation"
   ]
  },
  {
   "cell_type": "code",
   "execution_count": null,
   "metadata": {
    "colab": {
     "base_uri": "https://localhost:8080/"
    },
    "executionInfo": {
     "elapsed": 148,
     "status": "ok",
     "timestamp": 1751785738751,
     "user": {
      "displayName": "Akshat",
      "userId": "02656238651709843440"
     },
     "user_tz": -330
    },
    "id": "lymo71Ff4tQS",
    "outputId": "ae53cb8b-aa66-46df-d35f-97d99cf2bb39"
   },
   "outputs": [],
   "source": [
    "import shutil\n",
    "\n",
    "validation_source_dir = os.path.join(path,'Rock-Paper-Scissors', 'validation')\n",
    "validation_target_dir = '/content/dataset/validation'\n",
    "\n",
    "# Create target directories if they don't exist\n",
    "os.makedirs(os.path.join(validation_target_dir, 'rock'), exist_ok=True)\n",
    "os.makedirs(os.path.join(validation_target_dir, 'paper'), exist_ok=True)\n",
    "os.makedirs(os.path.join(validation_target_dir, 'scissors'), exist_ok=True)\n",
    "\n",
    "# Process images in the validation directory\n",
    "for filename in os.listdir(validation_source_dir):\n",
    "  source_path = os.path.join(validation_source_dir, filename)\n",
    "  if os.path.isfile(source_path):\n",
    "    if 'rock' in filename.lower():\n",
    "      shutil.copy(source_path, os.path.join(validation_target_dir, 'rock', filename))\n",
    "    elif 'paper' in filename.lower():\n",
    "      shutil.copy(source_path, os.path.join(validation_target_dir, 'paper', filename))\n",
    "    elif 'scissors' in filename.lower():\n",
    "      shutil.copy(source_path, os.path.join(validation_target_dir, 'scissors', filename))\n",
    "\n",
    "print(\"Validation images segregated.\")"
   ]
  },
  {
   "cell_type": "markdown",
   "metadata": {
    "id": "wjtAr_Kq6wB_"
   },
   "source": [
    "Dataset 1 processing completed"
   ]
  },
  {
   "cell_type": "markdown",
   "metadata": {
    "id": "qNc_qFjy60IG"
   },
   "source": [
    "# Dataset 2"
   ]
  },
  {
   "cell_type": "code",
   "execution_count": null,
   "metadata": {
    "colab": {
     "base_uri": "https://localhost:8080/"
    },
    "executionInfo": {
     "elapsed": 2007,
     "status": "ok",
     "timestamp": 1751785759229,
     "user": {
      "displayName": "Akshat",
      "userId": "02656238651709843440"
     },
     "user_tz": -330
    },
    "id": "cs7X0Aa0DGBC",
    "outputId": "2aeea030-2a45-48b5-9511-592dee5c1227"
   },
   "outputs": [],
   "source": [
    "import kagglehub\n",
    "\n",
    "# Download latest version\n",
    "path = kagglehub.dataset_download(\"drgfreeman/rockpaperscissors\")\n",
    "\n",
    "print(\"Path to dataset files:\", path)\n"
   ]
  },
  {
   "cell_type": "code",
   "execution_count": null,
   "metadata": {
    "colab": {
     "base_uri": "https://localhost:8080/",
     "height": 384
    },
    "executionInfo": {
     "elapsed": 675,
     "status": "ok",
     "timestamp": 1751785764410,
     "user": {
      "displayName": "Akshat",
      "userId": "02656238651709843440"
     },
     "user_tz": -330
    },
    "id": "9HQpRn5lJWy_",
    "outputId": "4f1729ff-4a75-4170-9418-7d9c6b815b73"
   },
   "outputs": [],
   "source": [
    "import matplotlib.pyplot as plt\n",
    "import matplotlib.image as mpimg\n",
    "import os\n",
    "\n",
    "image_directory = os.path.join(path, 'paper')\n",
    "image_files = [f for f in os.listdir(image_directory) if os.path.isfile(os.path.join(image_directory, f))]\n",
    "\n",
    "if image_files:\n",
    "    # Choose the first image in the directory\n",
    "    image_path = os.path.join(image_directory, image_files[0])\n",
    "    print(f\"Loading image from: {image_path}\")\n",
    "\n",
    "    # Load and display the image\n",
    "    img = mpimg.imread(image_path)\n",
    "    plt.imshow(img)\n",
    "    plt.axis('off') # Hide axes\n",
    "    plt.show()\n",
    "else:\n",
    "    print(f\"No image files found in {image_directory}\")\n"
   ]
  },
  {
   "cell_type": "code",
   "execution_count": null,
   "metadata": {
    "colab": {
     "base_uri": "https://localhost:8080/"
    },
    "collapsed": true,
    "executionInfo": {
     "elapsed": 13654,
     "status": "ok",
     "timestamp": 1751785785856,
     "user": {
      "displayName": "Akshat",
      "userId": "02656238651709843440"
     },
     "user_tz": -330
    },
    "id": "qr9XAjX9G9a6",
    "outputId": "c40d52a2-cfc3-40e9-ffb1-597b52d70599"
   },
   "outputs": [],
   "source": [
    "import os\n",
    "\n",
    "# Define source and target directories\n",
    "source_base_dir = path\n",
    "target_base_dir = '/content/dataset/train'\n",
    "\n",
    "# Define the folders to copy\n",
    "folders_to_copy = ['rock', 'paper', 'scissors']\n",
    "\n",
    "# Iterate through the folders and copy\n",
    "for folder_name in folders_to_copy:\n",
    "    source_dir = os.path.join(source_base_dir, folder_name)\n",
    "    target_dir = os.path.join(target_base_dir, folder_name)\n",
    "\n",
    "    # Create target directory if it doesn't exist\n",
    "    os.makedirs(target_dir, exist_ok=True)\n",
    "\n",
    "    # Copy the contents of the source folder to the target folder\n",
    "    # Using rsync for efficiency and to handle existing files\n",
    "    !rsync -av {source_dir}/ {target_dir}/"
   ]
  },
  {
   "cell_type": "markdown",
   "metadata": {
    "id": "Tx4filvTJI3C"
   },
   "source": [
    "Dataset 2 processing completed\n"
   ]
  },
  {
   "cell_type": "markdown",
   "metadata": {
    "id": "kzS0I-FPJKyA"
   },
   "source": [
    "# Dataset 3"
   ]
  },
  {
   "cell_type": "code",
   "execution_count": null,
   "metadata": {
    "colab": {
     "base_uri": "https://localhost:8080/"
    },
    "executionInfo": {
     "elapsed": 1905,
     "status": "ok",
     "timestamp": 1751785806879,
     "user": {
      "displayName": "Akshat",
      "userId": "02656238651709843440"
     },
     "user_tz": -330
    },
    "id": "b0KhT6NyJMXF",
    "outputId": "7eec98b6-d807-48b2-f46e-eb42c20a663f"
   },
   "outputs": [],
   "source": [
    "import kagglehub\n",
    "\n",
    "# Download latest version\n",
    "path = kagglehub.dataset_download(\"shedovanatya/rock-paper-scissors-dataset\")\n",
    "\n",
    "print(\"Path to dataset files:\", path)"
   ]
  },
  {
   "cell_type": "code",
   "execution_count": null,
   "metadata": {
    "colab": {
     "base_uri": "https://localhost:8080/",
     "height": 423
    },
    "executionInfo": {
     "elapsed": 761,
     "status": "ok",
     "timestamp": 1751785813231,
     "user": {
      "displayName": "Akshat",
      "userId": "02656238651709843440"
     },
     "user_tz": -330
    },
    "id": "4z7h2CVTJd97",
    "outputId": "a4589756-b97b-4a3b-876c-67c5c2bc7ed2"
   },
   "outputs": [],
   "source": [
    "import matplotlib.pyplot as plt\n",
    "import matplotlib.image as mpimg\n",
    "import os\n",
    "\n",
    "image_directory = os.path.join(path, 'train','images')\n",
    "image_files = [f for f in os.listdir(image_directory) if os.path.isfile(os.path.join(image_directory, f))]\n",
    "\n",
    "if image_files:\n",
    "    # Choose the first image in the directory\n",
    "    image_path = os.path.join(image_directory, image_files[0])\n",
    "    print(f\"Loading image from: {image_path}\")\n",
    "\n",
    "    # Load and display the image\n",
    "    img = mpimg.imread(image_path)\n",
    "    plt.imshow(img)\n",
    "    plt.axis('off') # Hide axes\n",
    "    plt.show()\n",
    "else:\n",
    "    print(f\"No image files found in {image_directory}\")\n"
   ]
  },
  {
   "cell_type": "code",
   "execution_count": null,
   "metadata": {
    "colab": {
     "base_uri": "https://localhost:8080/"
    },
    "executionInfo": {
     "elapsed": 572,
     "status": "ok",
     "timestamp": 1751785818865,
     "user": {
      "displayName": "Akshat",
      "userId": "02656238651709843440"
     },
     "user_tz": -330
    },
    "id": "-Jd-EX0pMRw7",
    "outputId": "fcb1f61c-feef-416d-ec31-4f7a36d18715"
   },
   "outputs": [],
   "source": [
    "print(\"\\nChecking file extensions in Dataset 3:\")\n",
    "for root, dirs, files in os.walk(path):\n",
    "    if files:\n",
    "        print(f\"In directory: {root}\")\n",
    "        extensions = set()\n",
    "        for file in files:\n",
    "            _, ext = os.path.splitext(file)\n",
    "            extensions.add(ext.lower())\n",
    "        print(f\"  File extensions found: {list(extensions)}\")"
   ]
  },
  {
   "cell_type": "code",
   "execution_count": null,
   "metadata": {
    "colab": {
     "base_uri": "https://localhost:8080/"
    },
    "collapsed": true,
    "executionInfo": {
     "elapsed": 4869,
     "status": "ok",
     "timestamp": 1751785835790,
     "user": {
      "displayName": "Akshat",
      "userId": "02656238651709843440"
     },
     "user_tz": -330
    },
    "id": "Dcs7rLQ0OOpz",
    "outputId": "af7c1dbc-2136-4a8c-ecc5-44bb85fa04ad"
   },
   "outputs": [],
   "source": [
    "import shutil\n",
    "# Process images from Dataset 3\n",
    "# Define source and target directories\n",
    "source_base_dir = path\n",
    "target_base_dir = '/content/dataset3/'\n",
    "\n",
    "# Define the folders (train, test, valid)\n",
    "folders = ['train', 'test', 'valid']\n",
    "\n",
    "# Define the class names and their corresponding label IDs (based on your label format)\n",
    "class_names = {0: 'paper', 1: 'rock', 2: 'scissors'}\n",
    "\n",
    "noLabelsFiles = 0\n",
    "\n",
    "# Iterate through the folders\n",
    "for folder in folders:\n",
    "    source_images_dir = os.path.join(source_base_dir, folder, 'images')\n",
    "    source_labels_dir = os.path.join(source_base_dir, folder, 'labels')\n",
    "    target_folder_dir = os.path.join(target_base_dir, folder)\n",
    "\n",
    "    # Create target subdirectories for each class if they don't exist\n",
    "    for class_name in class_names.values():\n",
    "        os.makedirs(os.path.join(target_folder_dir, class_name), exist_ok=True)\n",
    "        os.makedirs(os.path.join(target_folder_dir, 'labels', class_name), exist_ok=True)  # 🔸 label subfolders\n",
    "\n",
    "    # Iterate through the label files in the current folder\n",
    "    if os.path.exists(source_labels_dir):\n",
    "        for label_filename in os.listdir(source_labels_dir):\n",
    "            if label_filename.endswith('.txt'):\n",
    "                label_filepath = os.path.join(source_labels_dir, label_filename)\n",
    "                # The image filename will be the same as the label filename but with an image extension\n",
    "                image_filename_base, _ = os.path.splitext(label_filename)\n",
    "\n",
    "                # Check for common image extensions\n",
    "                image_filename = None\n",
    "                for ext in ['.jpg']:\n",
    "                    potential_image_filename = image_filename_base + ext\n",
    "                    potential_image_filepath = os.path.join(source_images_dir, potential_image_filename)\n",
    "                    if os.path.exists(potential_image_filepath):\n",
    "                        image_filename = potential_image_filename\n",
    "                        image_filepath = potential_image_filepath\n",
    "                        break\n",
    "\n",
    "                if image_filename:\n",
    "                    with open(label_filepath, 'r') as f:\n",
    "                        lines = f.readlines()\n",
    "                        if lines:\n",
    "                            # Assume the first line contains the label for the image\n",
    "                            first_line = lines[0].split()\n",
    "                            if first_line:\n",
    "                                class_id = int(first_line[0])\n",
    "                                if class_id in class_names:\n",
    "                                    class_name = class_names[class_id]\n",
    "                                    target_image_dir = os.path.join(target_folder_dir, class_name)\n",
    "                                    target_image_path = os.path.join(target_image_dir, image_filename)\n",
    "\n",
    "                                    # 🔹 Target label path\n",
    "                                    target_label_dir = os.path.join(target_folder_dir, 'labels', class_name)\n",
    "                                    target_label_path = os.path.join(target_label_dir, label_filename)\n",
    "\n",
    "                                    # Copy the image and label to their respective folders\n",
    "                                    shutil.copy(image_filepath, target_image_path)\n",
    "                                    shutil.copy(label_filepath, target_label_path)\n",
    "\n",
    "                                else:\n",
    "                                    print(f\"Warning: Unknown class ID {class_id} in {label_filepath}\")\n",
    "                            else:\n",
    "                                print(f\"Warning: Empty line in label file {label_filepath}\")\n",
    "                        else:\n",
    "                            noLabelsFiles += 1\n",
    "                            print(f\"Warning: Empty label file {label_filepath}\")\n",
    "                else:\n",
    "                    print(f\"Warning: Corresponding image not found for label file {label_filename} in {source_images_dir}\")\n",
    "    else:\n",
    "        print(f\"Warning: Label directory not found for {folder}: {source_labels_dir}\")\n",
    "\n",
    "print(\"Dataset 3 processing completed and images segregated based on labels.\")\n",
    "noLabelsFiles\n"
   ]
  },
  {
   "cell_type": "code",
   "execution_count": null,
   "metadata": {
    "id": "m_Ck6XY9SCBY"
   },
   "outputs": [],
   "source": [
    "import os\n",
    "\n",
    "directory_path = '/content/dataset3/'\n",
    "folders = ['train', 'test', 'valid']\n",
    "\n",
    "# Define the class names and their corresponding label IDs (based on your label format)\n",
    "subfolders = ['paper', 'rock', 'scissors']\n",
    "\n",
    "for subfolder in subfolders:\n",
    "  for folder in folders:\n",
    "      folder_path = os.path.join(directory_path, folder,subfolder)\n",
    "      print(folder_path)\n",
    "      print(len(os.listdir(folder_path)))\n"
   ]
  },
  {
   "cell_type": "code",
   "execution_count": null,
   "metadata": {
    "colab": {
     "base_uri": "https://localhost:8080/"
    },
    "executionInfo": {
     "elapsed": 5632,
     "status": "ok",
     "timestamp": 1751785855708,
     "user": {
      "displayName": "Akshat",
      "userId": "02656238651709843440"
     },
     "user_tz": -330
    },
    "id": "hyU-4E4aUZLN",
    "outputId": "ac7cfafb-188a-4bc5-b551-80e7f34babbc"
   },
   "outputs": [],
   "source": [
    "from PIL import Image\n",
    "import os\n",
    "\n",
    "# Define the path to the base dataset3 directory\n",
    "dataset3_base_path = '/content/dataset3'\n",
    "processed_output_base_path = '/content/dataset3processed'\n",
    "\n",
    "# Ensure the output directory exists\n",
    "os.makedirs(processed_output_base_path, exist_ok=True)\n",
    "\n",
    "# Define the folders (test, train, valid)\n",
    "folders = ['test', 'train', 'valid']\n",
    "\n",
    "# Define the class subfolders to process\n",
    "subfolders = ['paper', 'rock', 'scissors']\n",
    "\n",
    "# Loop through each class (paper, rock, scissors)\n",
    "for subfolder in subfolders:\n",
    "    # Iterate through the folders\n",
    "    for folder in folders:\n",
    "        image_dir = os.path.join(dataset3_base_path, folder, subfolder)\n",
    "        label_dir = os.path.join(dataset3_base_path, folder, 'labels', subfolder)\n",
    "\n",
    "        if os.path.exists(image_dir) and os.path.exists(label_dir):\n",
    "            # Ensure output subdirectory for the current folder and class exists\n",
    "            output_folder_path = os.path.join(processed_output_base_path, folder, subfolder)\n",
    "            os.makedirs(output_folder_path, exist_ok=True)\n",
    "\n",
    "            print(f\"Processing images in: {image_dir}\")\n",
    "            print(f\"Looking for labels in: {label_dir}\")\n",
    "\n",
    "            # Iterate through the image files in the current folder\n",
    "            for image_filename in os.listdir(image_dir):\n",
    "                image_name, image_ext = os.path.splitext(image_filename)\n",
    "                image_filepath = os.path.join(image_dir, image_filename)\n",
    "\n",
    "                # Construct the corresponding label filename (assuming same base name with .txt extension)\n",
    "                label_filename = image_name + '.txt'\n",
    "                label_filepath = os.path.join(label_dir, label_filename)\n",
    "\n",
    "                if os.path.exists(label_filepath):\n",
    "                    try:\n",
    "                        # Open the image\n",
    "                        img = Image.open(image_filepath)\n",
    "                        img_width, img_height = img.size\n",
    "\n",
    "                        # Read the bounding box coordinates from the label file\n",
    "                        with open(label_filepath, 'r') as f:\n",
    "                            lines = f.readlines()\n",
    "                            for i, line in enumerate(lines):\n",
    "                                # Assuming YOLO format: class_id center_x center_y width height\n",
    "                                parts = line.strip().split()\n",
    "                                if len(parts) == 5:\n",
    "                                    try:\n",
    "                                        center_x = float(parts[1])\n",
    "                                        center_y = float(parts[2])\n",
    "                                        bbox_width_ratio = float(parts[3])\n",
    "                                        bbox_height_ratio = float(parts[4])\n",
    "\n",
    "                                        # Convert normalized coordinates to pixel coordinates\n",
    "                                        bbox_x_center = center_x * img_width\n",
    "                                        bbox_y_center = center_y * img_height\n",
    "                                        bbox_width = bbox_width_ratio * img_width\n",
    "                                        bbox_height = bbox_height_ratio * img_height\n",
    "\n",
    "                                        # Calculate the top-left and bottom-right pixel coordinates\n",
    "                                        x_min = int(bbox_x_center - bbox_width / 2)\n",
    "                                        y_min = int(bbox_y_center - bbox_height / 2)\n",
    "                                        x_max = int(bbox_x_center + bbox_width / 2)\n",
    "                                        y_max = int(bbox_y_center + bbox_height / 2)\n",
    "\n",
    "                                        # Ensure coordinates are within image bounds\n",
    "                                        x_min = max(0, x_min)\n",
    "                                        y_min = max(0, y_min)\n",
    "                                        x_max = min(img_width, x_max)\n",
    "                                        y_max = min(img_height, y_max)\n",
    "\n",
    "                                        # Check if bounding box is valid\n",
    "                                        if x_max > x_min and y_max > y_min:\n",
    "                                            # Crop the image using the bounding box coordinates\n",
    "                                            cropped_img = img.crop((x_min, y_min, x_max, y_max))\n",
    "\n",
    "                                            # Define the output filename\n",
    "                                            output_filename = f\"{image_name}_bbox{i}{image_ext}\"\n",
    "                                            output_filepath = os.path.join(output_folder_path, output_filename)\n",
    "\n",
    "                                            # Save the cropped image\n",
    "                                            cropped_img.save(output_filepath)\n",
    "\n",
    "                                        else:\n",
    "                                            print(f\"Warning: Invalid bounding box in {label_filepath} (line {i+1})\")\n",
    "\n",
    "                                    except ValueError:\n",
    "                                        print(f\"Warning: Bad values in {label_filepath} (line {i+1})\")\n",
    "                                else:\n",
    "                                    print(f\"Warning: Malformed line {i+1} in {label_filepath}. Skipping.\")\n",
    "\n",
    "                    except FileNotFoundError:\n",
    "                        print(f\"Error: Image not found: {image_filepath}\")\n",
    "                    except Exception as e:\n",
    "                        print(f\"Error while processing {image_filepath}: {e}\")\n"
   ]
  },
  {
   "cell_type": "code",
   "execution_count": null,
   "metadata": {
    "colab": {
     "base_uri": "https://localhost:8080/"
    },
    "collapsed": true,
    "executionInfo": {
     "elapsed": 993,
     "status": "ok",
     "timestamp": 1751785872258,
     "user": {
      "displayName": "Akshat",
      "userId": "02656238651709843440"
     },
     "user_tz": -330
    },
    "id": "gITadSXoWQqE",
    "outputId": "344f52e0-908a-4e9d-fc9b-418d25bd1f67"
   },
   "outputs": [],
   "source": [
    "# Define source and target base directories\n",
    "source_base_dir = '/content/dataset3processed/train'\n",
    "target_base_dir = '/content/dataset/train'\n",
    "\n",
    "# Define the subfolders (rock, paper, scissors)\n",
    "subfolders = ['rock', 'paper', 'scissors']\n",
    "\n",
    "# Iterate through the subfolders and copy images\n",
    "for subfolder in subfolders:\n",
    "    source_dir = os.path.join(source_base_dir, subfolder)\n",
    "    target_dir = os.path.join(target_base_dir, subfolder)\n",
    "\n",
    "    # Create target directory if it doesn't exist\n",
    "    os.makedirs(target_dir, exist_ok=True)\n",
    "\n",
    "    # Copy the contents of the source folder to the target folder\n",
    "    # Using rsync to only copy images and keep existing files\n",
    "    !rsync -av --include='*.jpg' {source_dir}/ {target_dir}/\n",
    "\n",
    "print(\"Images copied from /content/dataset3/train to /content/dataset/train, keeping existing files.\")\n",
    "\n",
    "# Define source and target base directories for test\n",
    "source_base_dir_test = '/content/dataset3/test'\n",
    "target_base_dir_test = '/content/dataset/test'\n",
    "\n",
    "# Iterate through the subfolders and copy images for test\n",
    "for subfolder in subfolders:\n",
    "    source_dir = os.path.join(source_base_dir_test, subfolder)\n",
    "    target_dir = os.path.join(target_base_dir_test, subfolder)\n",
    "\n",
    "    # Create target directory if it doesn't exist\n",
    "    os.makedirs(target_dir, exist_ok=True)\n",
    "\n",
    "    # Copy the contents of the source folder to the target folder\n",
    "    !rsync -av --include='*.jpg' {source_dir}/ {target_dir}/\n",
    "\n",
    "print(\"Images copied from /content/dataset3/test to /content/dataset/test, keeping existing files.\")\n",
    "\n",
    "# Define source and target base directories for validation\n",
    "source_base_dir_valid = '/content/dataset3/valid'\n",
    "target_base_dir_valid = '/content/dataset/validation' # Assuming your validation folder is named 'validation' in dataset\n",
    "\n",
    "# Iterate through the subfolders and copy images for validation\n",
    "for subfolder in subfolders:\n",
    "    source_dir = os.path.join(source_base_dir_valid, subfolder)\n",
    "    target_dir = os.path.join(target_base_dir_valid, subfolder)\n",
    "\n",
    "    # Create target directory if it doesn't exist\n",
    "    os.makedirs(target_dir, exist_ok=True)\n",
    "\n",
    "    # Copy the contents of the source folder to the target folder\n",
    "    !rsync -av --include='*.jpg' --include='*.jpeg' --include='*.png' --exclude='*' {source_dir}/ {target_dir}/\n",
    "\n",
    "print(\"Images copied from /content/dataset3/valid to /content/dataset/validation, keeping existing files.\")"
   ]
  },
  {
   "cell_type": "markdown",
   "metadata": {
    "id": "gBnEZ3ssXcvM"
   },
   "source": [
    "dataset 3 completed processing\n"
   ]
  },
  {
   "cell_type": "markdown",
   "metadata": {
    "id": "BJCBFFfwXfL1"
   },
   "source": [
    "# Dataset 4"
   ]
  },
  {
   "cell_type": "code",
   "execution_count": null,
   "metadata": {
    "colab": {
     "base_uri": "https://localhost:8080/"
    },
    "executionInfo": {
     "elapsed": 1947,
     "status": "ok",
     "timestamp": 1751785976398,
     "user": {
      "displayName": "Akshat",
      "userId": "02656238651709843440"
     },
     "user_tz": -330
    },
    "id": "8io8LJPcXg4y",
    "outputId": "3c1cc539-0fac-4ef4-c7b0-dc9779bf960c"
   },
   "outputs": [],
   "source": [
    "import kagglehub\n",
    "\n",
    "# Download latest version\n",
    "path = kagglehub.dataset_download(\"andy8744/synthetic-rock-paper-scissors-dataset\")\n",
    "\n",
    "print(\"Path to dataset files:\", path)"
   ]
  },
  {
   "cell_type": "code",
   "execution_count": null,
   "metadata": {
    "colab": {
     "base_uri": "https://localhost:8080/"
    },
    "collapsed": true,
    "executionInfo": {
     "elapsed": 11003,
     "status": "ok",
     "timestamp": 1751786019009,
     "user": {
      "displayName": "Akshat",
      "userId": "02656238651709843440"
     },
     "user_tz": -330
    },
    "id": "lmJC5tSpXiiH",
    "outputId": "eefdac3f-cdb3-4cbb-8b1b-a10bebf2be22"
   },
   "outputs": [],
   "source": [
    "# Define source and target base directories\n",
    "source_base_dir = os.path.join(path, 'generated_dataset_2000')\n",
    "target_base_dir = '/content/dataset/train'\n",
    "\n",
    "# Define the folders to copy\n",
    "folders_to_copy = ['paper', 'rock', 'scissors']\n",
    "\n",
    "# Iterate through the folders and copy\n",
    "for folder_name in folders_to_copy:\n",
    "    source_dir = os.path.join(source_base_dir, folder_name)\n",
    "    target_dir = os.path.join(target_base_dir, folder_name)\n",
    "\n",
    "    # Create target directory if it doesn't exist\n",
    "    os.makedirs(target_dir, exist_ok=True)\n",
    "\n",
    "    # Copy the contents of the source folder to the target folder\n",
    "    # Using rsync for efficiency and to handle existing files\n",
    "    !rsync -av {source_dir}/ {target_dir}/\n",
    "\n",
    "print(\"Images copied from Dataset 4 to /content/dataset/train, keeping existing files.\")"
   ]
  },
  {
   "cell_type": "markdown",
   "metadata": {
    "id": "mQXGZrpHZGpi"
   },
   "source": [
    "dataset 4 processing complete"
   ]
  },
  {
   "cell_type": "markdown",
   "metadata": {
    "id": "BGIH4oY4ZJ3t"
   },
   "source": [
    "# Dataset 5"
   ]
  },
  {
   "cell_type": "code",
   "execution_count": null,
   "metadata": {
    "colab": {
     "base_uri": "https://localhost:8080/"
    },
    "executionInfo": {
     "elapsed": 1965,
     "status": "ok",
     "timestamp": 1751786036564,
     "user": {
      "displayName": "Akshat",
      "userId": "02656238651709843440"
     },
     "user_tz": -330
    },
    "id": "OIZ6uceRY9v-",
    "outputId": "468145d1-2070-4748-bb91-6eb1705f2e5d"
   },
   "outputs": [],
   "source": [
    "import kagglehub\n",
    "\n",
    "# Download latest version\n",
    "path = kagglehub.dataset_download(\"jamaicakayelopez/rock-paper-scissors\")\n",
    "\n",
    "print(\"Path to dataset files:\", path)"
   ]
  },
  {
   "cell_type": "code",
   "execution_count": null,
   "metadata": {
    "colab": {
     "base_uri": "https://localhost:8080/"
    },
    "collapsed": true,
    "executionInfo": {
     "elapsed": 3779,
     "status": "ok",
     "timestamp": 1751786303760,
     "user": {
      "displayName": "Akshat",
      "userId": "02656238651709843440"
     },
     "user_tz": -330
    },
    "id": "YDXCJJmRZNNP",
    "outputId": "bc7247a9-176c-415b-8871-fcdfe39df981"
   },
   "outputs": [],
   "source": [
    "# Define source and target base directories\n",
    "source_base_dir = os.path.join(path, 'ROCK, PAPER, SCISSORS')\n",
    "target_base_dir = '/content/dataset/train'\n",
    "\n",
    "folders_from_copy = ['PAPER', 'ROCK', 'SCISSORS']\n",
    "folders_to_copy = ['paper', 'rock', 'scissors']\n",
    "\n",
    "# Iterate through both lists using zip\n",
    "for src_folder, dst_folder in zip(folders_from_copy, folders_to_copy):\n",
    "    source_dir = os.path.join(source_base_dir, src_folder)\n",
    "    target_dir = os.path.join(target_base_dir, dst_folder)\n",
    "\n",
    "    # Create target directory if it doesn't exist\n",
    "    os.makedirs(target_dir, exist_ok=True)\n",
    "\n",
    "    # Copy the contents of the source folder to the target folder\n",
    "    # Using rsync for efficiency and to handle existing files\n",
    "    !rsync -av \"{source_dir}/\" \"{target_dir}/\"\n",
    "\n",
    "print(f\"Images copied from {source_base_dir} to {target_base_dir}, keeping existing files.\")\n"
   ]
  },
  {
   "cell_type": "markdown",
   "metadata": {
    "id": "u7jSixJ0Z6yz"
   },
   "source": [
    "Dataset 5 processing complete\n"
   ]
  },
  {
   "cell_type": "markdown",
   "metadata": {
    "id": "XwK8TCpjZ9T7"
   },
   "source": [
    "# Dataset 6"
   ]
  },
  {
   "cell_type": "code",
   "execution_count": null,
   "metadata": {
    "colab": {
     "base_uri": "https://localhost:8080/"
    },
    "executionInfo": {
     "elapsed": 1935,
     "status": "ok",
     "timestamp": 1751786334517,
     "user": {
      "displayName": "Akshat",
      "userId": "02656238651709843440"
     },
     "user_tz": -330
    },
    "id": "rmHvtStwZ_VT",
    "outputId": "6f0693bf-f654-4fbf-bdeb-dba3318d1de8"
   },
   "outputs": [],
   "source": [
    "import kagglehub\n",
    "\n",
    "# Download latest version\n",
    "path = kagglehub.dataset_download(\"chalanthorn/rockpaperscissors\")\n",
    "\n",
    "print(\"Path to dataset files:\", path)"
   ]
  },
  {
   "cell_type": "code",
   "execution_count": null,
   "metadata": {
    "colab": {
     "base_uri": "https://localhost:8080/",
     "height": 423
    },
    "executionInfo": {
     "elapsed": 319,
     "status": "ok",
     "timestamp": 1751786340075,
     "user": {
      "displayName": "Akshat",
      "userId": "02656238651709843440"
     },
     "user_tz": -330
    },
    "id": "AA51TtE4cEVd",
    "outputId": "d34d1558-6725-4544-ade2-051cde402953"
   },
   "outputs": [],
   "source": [
    "import matplotlib.pyplot as plt\n",
    "import matplotlib.image as mpimg\n",
    "import os\n",
    "\n",
    "image_directory = os.path.join(path, 'train_kaggle','test', 'images')\n",
    "image_files = [f for f in os.listdir(image_directory) if os.path.isfile(os.path.join(image_directory, f))]\n",
    "\n",
    "if image_files:\n",
    "    # Choose the first image in the directory\n",
    "    image_path = os.path.join(image_directory, image_files[0])\n",
    "    print(f\"Loading image from: {image_path}\")\n",
    "\n",
    "    # Load and display the image\n",
    "    img = mpimg.imread(image_path)\n",
    "    plt.imshow(img)\n",
    "    plt.axis('off') # Hide axes\n",
    "    plt.show()\n",
    "else:\n",
    "    print(f\"No image files found in {image_directory}\")\n"
   ]
  },
  {
   "cell_type": "code",
   "execution_count": null,
   "metadata": {
    "colab": {
     "base_uri": "https://localhost:8080/"
    },
    "executionInfo": {
     "elapsed": 764,
     "status": "ok",
     "timestamp": 1751786344249,
     "user": {
      "displayName": "Akshat",
      "userId": "02656238651709843440"
     },
     "user_tz": -330
    },
    "id": "ANryQ7XlcV3F",
    "outputId": "222f122a-b662-49e3-bbff-b5884151bb7b"
   },
   "outputs": [],
   "source": [
    "print(\"\\nChecking file extensions in Dataset 3:\")\n",
    "for root, dirs, files in os.walk(path):\n",
    "    if files:\n",
    "        print(f\"In directory: {root}\")\n",
    "        extensions = set()\n",
    "        for file in files:\n",
    "            _, ext = os.path.splitext(file)\n",
    "            extensions.add(ext.lower())\n",
    "        print(f\"  File extensions found: {list(extensions)}\")"
   ]
  },
  {
   "cell_type": "code",
   "execution_count": null,
   "metadata": {
    "colab": {
     "base_uri": "https://localhost:8080/"
    },
    "executionInfo": {
     "elapsed": 7255,
     "status": "ok",
     "timestamp": 1751786355171,
     "user": {
      "displayName": "Akshat",
      "userId": "02656238651709843440"
     },
     "user_tz": -330
    },
    "id": "T4i2ED6EcvGC",
    "outputId": "6b8baa0e-ef94-421d-df26-9f801ec06bd8"
   },
   "outputs": [],
   "source": [
    "import shutil\n",
    "import os\n",
    "\n",
    "# Define source and target directories\n",
    "source_base_dir = path + '/train_kaggle'\n",
    "target_base_dir = '/content/dataset/'\n",
    "\n",
    "# Define the folders (source and target)\n",
    "folders = ['train', 'test', 'valid']         # source folders\n",
    "folders_to_copy = ['train', 'test', 'validation']  # target folders\n",
    "\n",
    "# Define the class names and their corresponding label IDs\n",
    "class_names = {0: 'paper', 1: 'rock', 2: 'scissors'}\n",
    "\n",
    "noLabelsFiles = 0\n",
    "\n",
    "# Iterate through the folders\n",
    "for src_folder, tgt_folder in zip(folders, folders_to_copy):\n",
    "    source_images_dir = os.path.join(source_base_dir, src_folder, 'images')\n",
    "    source_labels_dir = os.path.join(source_base_dir, src_folder, 'labels')\n",
    "    target_folder_dir = os.path.join(target_base_dir, tgt_folder)\n",
    "\n",
    "    # Create target subdirectories for each class\n",
    "    for class_name in class_names.values():\n",
    "        os.makedirs(os.path.join(target_folder_dir, class_name), exist_ok=True)\n",
    "\n",
    "    # Iterate through label files\n",
    "    if os.path.exists(source_labels_dir):\n",
    "        for label_filename in os.listdir(source_labels_dir):\n",
    "            if label_filename.endswith('.txt'):\n",
    "                label_filepath = os.path.join(source_labels_dir, label_filename)\n",
    "                image_filename_base, _ = os.path.splitext(label_filename)\n",
    "\n",
    "                # Look for the image file\n",
    "                image_filename = None\n",
    "                for ext in ['.jpg']:\n",
    "                    potential_image_filename = image_filename_base + ext\n",
    "                    potential_image_filepath = os.path.join(source_images_dir, potential_image_filename)\n",
    "                    if os.path.exists(potential_image_filepath):\n",
    "                        image_filename = potential_image_filename\n",
    "                        image_filepath = potential_image_filepath\n",
    "                        break\n",
    "\n",
    "                if image_filename:\n",
    "                    with open(label_filepath, 'r') as f:\n",
    "                        lines = f.readlines()\n",
    "                        if lines:\n",
    "                            first_line = lines[0].split()\n",
    "                            if first_line:\n",
    "                                class_id = int(first_line[0])\n",
    "                                if class_id in class_names:\n",
    "                                    class_name = class_names[class_id]\n",
    "                                    target_image_dir = os.path.join(target_folder_dir, class_name)\n",
    "                                    target_image_path = os.path.join(target_image_dir, image_filename)\n",
    "\n",
    "                                    # Copy only the image (not the label)\n",
    "                                    shutil.copy(image_filepath, target_image_path)\n",
    "                                else:\n",
    "                                    print(f\"Warning: Unknown class ID {class_id} in {label_filepath}\")\n",
    "                            else:\n",
    "                                print(f\"Warning: Empty line in label file {label_filepath}\")\n",
    "                        else:\n",
    "                            noLabelsFiles += 1\n",
    "                            print(f\"Warning: Empty label file {label_filepath}\")\n",
    "                else:\n",
    "                    print(f\"Warning: Corresponding image not found for label file {label_filename} in {source_images_dir}\")\n",
    "    else:\n",
    "        print(f\"Warning: Label directory not found for {src_folder}: {source_labels_dir}\")\n",
    "\n",
    "print(\"Dataset 6 processing completed and images segregated based on labels (labels not copied).\")\n",
    "noLabelsFiles\n"
   ]
  },
  {
   "cell_type": "markdown",
   "metadata": {
    "id": "w9NeYGDceBKt"
   },
   "source": [
    "dataset 6 processing completed"
   ]
  },
  {
   "cell_type": "markdown",
   "metadata": {
    "id": "kYP09nHbeDod"
   },
   "source": [
    "# Dataset 7"
   ]
  },
  {
   "cell_type": "code",
   "execution_count": null,
   "metadata": {
    "colab": {
     "base_uri": "https://localhost:8080/"
    },
    "collapsed": true,
    "executionInfo": {
     "elapsed": 12654,
     "status": "ok",
     "timestamp": 1751784944355,
     "user": {
      "displayName": "Akshat",
      "userId": "02656238651709843440"
     },
     "user_tz": -330
    },
    "id": "66CutZ39eFV0",
    "outputId": "f886c725-efb4-4aa1-b0be-e839cb813461"
   },
   "outputs": [],
   "source": [
    "!pip install tensorflow-datasets\n",
    "!pip install tensorflow"
   ]
  },
  {
   "cell_type": "code",
   "execution_count": null,
   "metadata": {
    "colab": {
     "base_uri": "https://localhost:8080/",
     "height": 240,
     "referenced_widgets": [
      "053209d708474a968b0010fad0b606fc",
      "b5c73896f76748cabf37794b3e4aeece",
      "985fce942c184b73ad2d690bad0883b4",
      "c18b535d729f4196b291325abdb6b63f",
      "fcb9b1dda8c649bc8517dc508a2af05c",
      "6d8ec3ae4e4648a98f32fbba9dce04e7",
      "f9f496c9125546238394422f2aca11f5",
      "6bbe473b66ed46a388a26bfbc33a6b9b",
      "3f63a53368db474fab5f08ab6e4cea2a",
      "fe55cf7a22b34cdd8dcab3dc917b7180",
      "6eac5a4ba6d1476f934279565bc9fa58",
      "729988dea343423bbb188b3e079e5a46",
      "01ab6bee78cd44ef914f31f5a98c7e0d",
      "1aaa7b6db7f64256a213132ff0141fd1",
      "1b40a394d5ed41e5a9eb625988bf273c",
      "59e8bb661cf6416ba661fcb7f2066fad",
      "cd2e012dcd06437dbb95fac220963ec0",
      "5b9a0b39c3224a47b87dede08257d7de",
      "f375ad81b0f94a09b50a2117ac5b1160",
      "d883e78d7f334ba99f9b00ba99b3d5fc",
      "f6bce899dfff414e8dd091de4beed16f",
      "86a61b25819f42cc9be724dc7eecb83f",
      "4d9863d182314646bc78fb84a83ece8e",
      "dbda035f2cab4778b6d2df4bbefb0cbe",
      "9a368f33c8744a2ebe95e1cb37b33fae",
      "2f4ca9af8a6b4b66bdeae96b4faf57e8",
      "6f7b3f0fbaa94c20a979b7c0f506f3dc",
      "674755148b014a4cbd6106153fa84318",
      "627143f2a7564b59a6b5c09dffa43d42",
      "104e235b046344c99375add3dbbb7074",
      "8686cffb07a9475d917b89d426c9e4df",
      "a239788f79ef4fa195300b02c32c181f",
      "4d9e974fd5724ca08b505f7a121a681f",
      "49036df3d8c144f6b15890f983741804",
      "fdb4683e073d4340b73117841d4b05ba",
      "7ecc822779764d8fb3a8ad20a4a96b00",
      "9b7b20009ad34a66810d83f6538a7445",
      "0c396681b18e43a89b132c0d6229dd84",
      "5f617997c0ef4f8aa04f987b4a4b204a",
      "cb06c62d375143c68a6a12abc398729f",
      "917dc7ab612541fc959d1f5993ce0714",
      "2ba537b8a4cc4585adb60a63f531adbb",
      "ab4c60cf06ff4aeeb3a05f9f43df6e39",
      "f07ccf2e7baa41cfaba7013c0e8972ed",
      "af18315595994991a6014c02118885f9",
      "799755f7030d47a6ac91af4c45a51d70",
      "e08890cba4094573a4468b6cba82b02f",
      "be9a688ef1a14edebbdb489b5052caab",
      "e6ab91e878664e52929072f0b4b469cd",
      "9581caddb5084052acb55b333d555f84",
      "73348e6d72804366b453f78805640fcf",
      "210ecba3cf0540189e479fb6a0c061d2",
      "1e66f7a709e04b7f8cac3059cd34f094",
      "3470831ce5e64e5ca0ad3d131fe8f719",
      "dabd6f726fbf4779a297fa018b4abf5a",
      "12e7a82f04c543b9afe35b1b3fcefec3",
      "7cd8036c62e145399046f7fc59cd0520",
      "27cbe3bc774244a4887674ebce72d5c7",
      "b3deac3aa6d1427c9d19e05ed1dd8214",
      "410ebe32b9b146e693a292efde6ce09c",
      "4bc85ca8d2f343d88a57eb96b99b6fc5",
      "04e0ff55dd0a4680add60c3180e8d1fe",
      "4625f53b67aa43f7ab96f2d687cdecde",
      "24f089ccd9814ff1907bb33b597dc220",
      "cc677da3a91e45a5977c85562dfc6d0f",
      "4e273016398543528f582faf2d2d5748",
      "809c0bccd147406baa76cd04820b864c",
      "2655165a55c24ff4b0fcfc3605bc7c96",
      "90a5d9cd34dd47a097ac27928530147a",
      "94c269641e4443e1b41fe27fdb976b26",
      "df0f912726994c019f68b3347c03d855",
      "e6b8bf9f5af04f3b9325616f9d9ea9ae",
      "c42467f842aa4d7fa5a9ff482fd457b2",
      "1be29ec6a7374fa3bfa578d2278b5046",
      "47558244308e4034bcf9ee4343ee8d45",
      "37832b115310492784c2916946b1f1b5",
      "5458bf90180a437996d5f8e0f5458c6d"
     ]
    },
    "executionInfo": {
     "elapsed": 169727,
     "status": "ok",
     "timestamp": 1751786531514,
     "user": {
      "displayName": "Akshat",
      "userId": "02656238651709843440"
     },
     "user_tz": -330
    },
    "id": "gb7ckMzoeQS5",
    "outputId": "9c50e9fd-3d5a-4e89-bbd4-6798fcee59ff"
   },
   "outputs": [],
   "source": [
    "import tensorflow as tf\n",
    "import tensorflow_datasets as tfds\n",
    "import os\n",
    "import shutil\n",
    "import random\n",
    "import string\n",
    "from PIL import Image\n",
    "\n",
    "# Load the rock_paper_scissors dataset from TensorFlow Datasets\n",
    "try:\n",
    "  dataset, info = tfds.load(\n",
    "    'rock_paper_scissors',\n",
    "    split={'train': 'train', 'test': 'test'},\n",
    "    with_info=True\n",
    ")\n",
    "\n",
    "except Exception as e:\n",
    "  print(f\"Error loading rock_paper_scissors dataset: {e}\")\n",
    "  print(\"You might need to install tensorflow_datasets: !pip install tensorflow-datasets\")\n",
    "\n",
    "# Define the base directory for segregation\n",
    "segregation_base_dir = '/content/dataset'\n",
    "\n",
    "# Define the target subdirectories for train and test splits\n",
    "train_target_dir = os.path.join(segregation_base_dir, 'train')\n",
    "test_target_dir = os.path.join(segregation_base_dir, 'test')\n",
    "\n",
    "# Create the target directories if they don't exist\n",
    "os.makedirs(train_target_dir, exist_ok=True)\n",
    "os.makedirs(test_target_dir, exist_ok=True)\n",
    "\n",
    "# Define the class names based on the dataset info\n",
    "class_names = info.features['label'].names\n",
    "\n",
    "# Create class subdirectories within train and test\n",
    "for class_name in class_names:\n",
    "    os.makedirs(os.path.join(train_target_dir, class_name), exist_ok=True)\n",
    "    os.makedirs(os.path.join(test_target_dir, class_name), exist_ok=True)\n",
    "\n",
    "\n",
    "# Utility to generate a random alphanumeric string of length 15\n",
    "def generate_random_filename(length=15):\n",
    "    return ''.join(random.choices(string.ascii_letters + string.digits, k=length))\n",
    "\n",
    "# Function to save images from a TFDS split\n",
    "def save_images_from_split(tfds_split, target_dir, class_names):\n",
    "    print(f\"Processing images for split: {target_dir}\")\n",
    "    for example in tfds_split:\n",
    "        image = example['image'].numpy()\n",
    "        label = example['label'].numpy()\n",
    "        class_name = class_names[label]\n",
    "\n",
    "        class_target_dir = os.path.join(target_dir, class_name)\n",
    "        os.makedirs(class_target_dir, exist_ok=True)\n",
    "\n",
    "        # Generate a robust, random filename\n",
    "        random_name = generate_random_filename()\n",
    "        image_filename = f\"{class_name}_{random_name}.png\"\n",
    "\n",
    "        image_path = os.path.join(class_target_dir, image_filename)\n",
    "\n",
    "        try:\n",
    "            img = Image.fromarray(image)\n",
    "            img.save(image_path)\n",
    "        except Exception as e:\n",
    "            print(f\"Error saving image {image_path}: {e}\")\n",
    "\n",
    "\n",
    "# Save images from train split\n",
    "if 'train' in dataset:\n",
    "  save_images_from_split(dataset['train'], train_target_dir, class_names)\n",
    "  print(f\"Images from TFDS train split saved to {train_target_dir}\")\n",
    "\n",
    "# Save images from test split\n",
    "if 'test' in dataset:\n",
    "  save_images_from_split(dataset['test'], test_target_dir, class_names)\n",
    "  print(f\"Images from TFDS test split saved to {test_target_dir}\")\n",
    "\n",
    "print(\"TFDS rock_paper_scissors dataset segregated.\")\n"
   ]
  },
  {
   "cell_type": "markdown",
   "metadata": {
    "id": "gvadfHyzgguT"
   },
   "source": [
    "# All Datasets Processing completed"
   ]
  },
  {
   "cell_type": "markdown",
   "metadata": {
    "id": "Mph4us3-glAM"
   },
   "source": [
    "# Now save to GDrive"
   ]
  },
  {
   "cell_type": "code",
   "execution_count": null,
   "metadata": {
    "colab": {
     "base_uri": "https://localhost:8080/"
    },
    "executionInfo": {
     "elapsed": 26429,
     "status": "ok",
     "timestamp": 1751786569247,
     "user": {
      "displayName": "Akshat",
      "userId": "02656238651709843440"
     },
     "user_tz": -330
    },
    "id": "ZFmk56F4m1TG",
    "outputId": "a476e151-45ac-45fb-85eb-ef06ced3a22c"
   },
   "outputs": [],
   "source": [
    "from google.colab import drive\n",
    "drive.mount('/content/drive')\n"
   ]
  },
  {
   "cell_type": "code",
   "execution_count": null,
   "metadata": {
    "id": "7Q5PkQwnnAHY"
   },
   "outputs": [],
   "source": [
    "import os\n",
    "os.makedirs('/content/drive/MyDrive/RPSense_Dataset', exist_ok=True)\n"
   ]
  },
  {
   "cell_type": "code",
   "execution_count": null,
   "metadata": {
    "id": "OVn5QzfYm_CD"
   },
   "outputs": [],
   "source": [
    "!cp -r /content/dataset /content/drive/MyDrive/RPSense_Dataset/\n",
    "\n",
    "\n",
    "# # if zipped\n",
    "# !zip -r RPSense_Dataset.zip dataset/\n",
    "# !cp RPSense_Dataset.zip /content/drive/MyDrive/\n"
   ]
  },
  {
   "cell_type": "code",
   "execution_count": null,
   "metadata": {
    "colab": {
     "base_uri": "https://localhost:8080/"
    },
    "executionInfo": {
     "elapsed": 867,
     "status": "ok",
     "timestamp": 1751786890119,
     "user": {
      "displayName": "Akshat",
      "userId": "02656238651709843440"
     },
     "user_tz": -330
    },
    "id": "YKnrB2WqocXt",
    "outputId": "19d1af7d-36c3-4115-bc29-a793ef8fcfe7"
   },
   "outputs": [],
   "source": [
    "base_path = '/content/drive/MyDrive/RPSense_Dataset/dataset/'\n",
    "subfolders = ['train', 'test', 'validation']\n",
    "classes = ['paper', 'rock', 'scissors']\n",
    "\n",
    "for subfolder in subfolders:\n",
    "    folder_path = os.path.join(base_path, subfolder)\n",
    "    print(f\"Files in {folder_path}:\")\n",
    "    if os.path.exists(folder_path):\n",
    "        for class_name in classes:\n",
    "            class_path = os.path.join(folder_path, class_name)\n",
    "            if os.path.exists(class_path):\n",
    "                num_files = len(os.listdir(class_path))\n",
    "                print(f\"  {class_name}: {num_files} files\")\n",
    "            else:\n",
    "                print(f\"  {class_name}: Folder not found\")\n",
    "    else:\n",
    "        print(\"  Folder not found\")\n",
    "\n"
   ]
  },
  {
   "cell_type": "markdown",
   "metadata": {
    "id": "JqDrEQwfpo_4"
   },
   "source": [
    "# ✅ 17,539 total files"
   ]
  },
  {
   "cell_type": "code",
   "execution_count": null,
   "metadata": {
    "colab": {
     "base_uri": "https://localhost:8080/"
    },
    "executionInfo": {
     "elapsed": 7026,
     "status": "ok",
     "timestamp": 1751787223504,
     "user": {
      "displayName": "Akshat",
      "userId": "02656238651709843440"
     },
     "user_tz": -330
    },
    "id": "30IiBFDzpuJG",
    "outputId": "69481b23-1fbb-46b9-e24e-d55a6e5aefac"
   },
   "outputs": [],
   "source": [
    "def get_dir_size_in_gb(directory_path):\n",
    "    \"\"\"Calculates the total size of a directory in gigabytes.\"\"\"\n",
    "    total_size = 0\n",
    "    if os.path.exists(directory_path):\n",
    "        for dirpath, dirnames, filenames in os.walk(directory_path):\n",
    "            for f in filenames:\n",
    "                fp = os.path.join(dirpath, f)\n",
    "                # skip if it is symbolic link\n",
    "                if not os.path.islink(fp):\n",
    "                    total_size += os.path.getsize(fp)\n",
    "        return total_size / (1024 * 1024 * 1024)  # Convert bytes to GB\n",
    "    else:\n",
    "        return 0\n",
    "\n",
    "dataset_size_gb = get_dir_size_in_gb(base_path)\n",
    "print(f\"Size of the dataset at {base_path}: {dataset_size_gb:.2f} GB\")"
   ]
  },
  {
   "cell_type": "markdown",
   "metadata": {
    "id": "qRzvIBA0qlSr"
   },
   "source": [
    "# 2.51 GB dataset size"
   ]
  },
  {
   "cell_type": "code",
   "execution_count": null,
   "metadata": {
    "colab": {
     "base_uri": "https://localhost:8080/"
    },
    "executionInfo": {
     "elapsed": 733,
     "status": "ok",
     "timestamp": 1751787429726,
     "user": {
      "displayName": "Akshat",
      "userId": "02656238651709843440"
     },
     "user_tz": -330
    },
    "id": "0kyhiaJ_qnF0",
    "outputId": "c11ae720-be16-4425-af6d-568ba90b112a"
   },
   "outputs": [],
   "source": [
    "print(\"\\nChecking file extensions in Google drive:\")\n",
    "for root, dirs, files in os.walk(base_path):\n",
    "    if files:\n",
    "        print(f\"In directory: {root}\")\n",
    "        extensions = set()\n",
    "        for file in files:\n",
    "            _, ext = os.path.splitext(file)\n",
    "            extensions.add(ext.lower())\n",
    "        print(f\"  File extensions found: {list(extensions)}\")"
   ]
  },
  {
   "cell_type": "markdown",
   "metadata": {
    "id": "JQQKe6luqwRb"
   },
   "source": [
    "# Images - extension = ['.jpg', '.png']"
   ]
  }
 ],
 "metadata": {
  "colab": {
   "authorship_tag": "ABX9TyOAAR/I1WqbAppvOiPlzgdM",
   "provenance": []
  },
  "kernelspec": {
   "display_name": "Python 3",
   "name": "python3"
  },
  "language_info": {
   "name": "python"
  },
  "widgets": {
   "application/vnd.jupyter.widget-state+json": {
    "01ab6bee78cd44ef914f31f5a98c7e0d": {
     "model_module": "@jupyter-widgets/controls",
     "model_module_version": "1.5.0",
     "model_name": "HTMLModel",
     "state": {
      "_dom_classes": [],
      "_model_module": "@jupyter-widgets/controls",
      "_model_module_version": "1.5.0",
      "_model_name": "HTMLModel",
      "_view_count": null,
      "_view_module": "@jupyter-widgets/controls",
      "_view_module_version": "1.5.0",
      "_view_name": "HTMLView",
      "description": "",
      "description_tooltip": null,
      "layout": "IPY_MODEL_cd2e012dcd06437dbb95fac220963ec0",
      "placeholder": "​",
      "style": "IPY_MODEL_5b9a0b39c3224a47b87dede08257d7de",
      "value": "Dl Size...: 100%"
     }
    },
    "04e0ff55dd0a4680add60c3180e8d1fe": {
     "model_module": "@jupyter-widgets/controls",
     "model_module_version": "1.5.0",
     "model_name": "DescriptionStyleModel",
     "state": {
      "_model_module": "@jupyter-widgets/controls",
      "_model_module_version": "1.5.0",
      "_model_name": "DescriptionStyleModel",
      "_view_count": null,
      "_view_module": "@jupyter-widgets/base",
      "_view_module_version": "1.2.0",
      "_view_name": "StyleView",
      "description_width": ""
     }
    },
    "053209d708474a968b0010fad0b606fc": {
     "model_module": "@jupyter-widgets/controls",
     "model_module_version": "1.5.0",
     "model_name": "HBoxModel",
     "state": {
      "_dom_classes": [],
      "_model_module": "@jupyter-widgets/controls",
      "_model_module_version": "1.5.0",
      "_model_name": "HBoxModel",
      "_view_count": null,
      "_view_module": "@jupyter-widgets/controls",
      "_view_module_version": "1.5.0",
      "_view_name": "HBoxView",
      "box_style": "",
      "children": [
       "IPY_MODEL_b5c73896f76748cabf37794b3e4aeece",
       "IPY_MODEL_985fce942c184b73ad2d690bad0883b4",
       "IPY_MODEL_c18b535d729f4196b291325abdb6b63f"
      ],
      "layout": "IPY_MODEL_fcb9b1dda8c649bc8517dc508a2af05c"
     }
    },
    "0c396681b18e43a89b132c0d6229dd84": {
     "model_module": "@jupyter-widgets/base",
     "model_module_version": "1.2.0",
     "model_name": "LayoutModel",
     "state": {
      "_model_module": "@jupyter-widgets/base",
      "_model_module_version": "1.2.0",
      "_model_name": "LayoutModel",
      "_view_count": null,
      "_view_module": "@jupyter-widgets/base",
      "_view_module_version": "1.2.0",
      "_view_name": "LayoutView",
      "align_content": null,
      "align_items": null,
      "align_self": null,
      "border": null,
      "bottom": null,
      "display": null,
      "flex": null,
      "flex_flow": null,
      "grid_area": null,
      "grid_auto_columns": null,
      "grid_auto_flow": null,
      "grid_auto_rows": null,
      "grid_column": null,
      "grid_gap": null,
      "grid_row": null,
      "grid_template_areas": null,
      "grid_template_columns": null,
      "grid_template_rows": null,
      "height": null,
      "justify_content": null,
      "justify_items": null,
      "left": null,
      "margin": null,
      "max_height": null,
      "max_width": null,
      "min_height": null,
      "min_width": null,
      "object_fit": null,
      "object_position": null,
      "order": null,
      "overflow": null,
      "overflow_x": null,
      "overflow_y": null,
      "padding": null,
      "right": null,
      "top": null,
      "visibility": "hidden",
      "width": null
     }
    },
    "104e235b046344c99375add3dbbb7074": {
     "model_module": "@jupyter-widgets/base",
     "model_module_version": "1.2.0",
     "model_name": "LayoutModel",
     "state": {
      "_model_module": "@jupyter-widgets/base",
      "_model_module_version": "1.2.0",
      "_model_name": "LayoutModel",
      "_view_count": null,
      "_view_module": "@jupyter-widgets/base",
      "_view_module_version": "1.2.0",
      "_view_name": "LayoutView",
      "align_content": null,
      "align_items": null,
      "align_self": null,
      "border": null,
      "bottom": null,
      "display": null,
      "flex": null,
      "flex_flow": null,
      "grid_area": null,
      "grid_auto_columns": null,
      "grid_auto_flow": null,
      "grid_auto_rows": null,
      "grid_column": null,
      "grid_gap": null,
      "grid_row": null,
      "grid_template_areas": null,
      "grid_template_columns": null,
      "grid_template_rows": null,
      "height": null,
      "justify_content": null,
      "justify_items": null,
      "left": null,
      "margin": null,
      "max_height": null,
      "max_width": null,
      "min_height": null,
      "min_width": null,
      "object_fit": null,
      "object_position": null,
      "order": null,
      "overflow": null,
      "overflow_x": null,
      "overflow_y": null,
      "padding": null,
      "right": null,
      "top": null,
      "visibility": null,
      "width": null
     }
    },
    "12e7a82f04c543b9afe35b1b3fcefec3": {
     "model_module": "@jupyter-widgets/controls",
     "model_module_version": "1.5.0",
     "model_name": "HBoxModel",
     "state": {
      "_dom_classes": [],
      "_model_module": "@jupyter-widgets/controls",
      "_model_module_version": "1.5.0",
      "_model_name": "HBoxModel",
      "_view_count": null,
      "_view_module": "@jupyter-widgets/controls",
      "_view_module_version": "1.5.0",
      "_view_name": "HBoxView",
      "box_style": "",
      "children": [
       "IPY_MODEL_7cd8036c62e145399046f7fc59cd0520",
       "IPY_MODEL_27cbe3bc774244a4887674ebce72d5c7",
       "IPY_MODEL_b3deac3aa6d1427c9d19e05ed1dd8214"
      ],
      "layout": "IPY_MODEL_410ebe32b9b146e693a292efde6ce09c"
     }
    },
    "1aaa7b6db7f64256a213132ff0141fd1": {
     "model_module": "@jupyter-widgets/controls",
     "model_module_version": "1.5.0",
     "model_name": "FloatProgressModel",
     "state": {
      "_dom_classes": [],
      "_model_module": "@jupyter-widgets/controls",
      "_model_module_version": "1.5.0",
      "_model_name": "FloatProgressModel",
      "_view_count": null,
      "_view_module": "@jupyter-widgets/controls",
      "_view_module_version": "1.5.0",
      "_view_name": "ProgressView",
      "bar_style": "success",
      "description": "",
      "description_tooltip": null,
      "layout": "IPY_MODEL_f375ad81b0f94a09b50a2117ac5b1160",
      "max": 1,
      "min": 0,
      "orientation": "horizontal",
      "style": "IPY_MODEL_d883e78d7f334ba99f9b00ba99b3d5fc",
      "value": 1
     }
    },
    "1b40a394d5ed41e5a9eb625988bf273c": {
     "model_module": "@jupyter-widgets/controls",
     "model_module_version": "1.5.0",
     "model_name": "HTMLModel",
     "state": {
      "_dom_classes": [],
      "_model_module": "@jupyter-widgets/controls",
      "_model_module_version": "1.5.0",
      "_model_name": "HTMLModel",
      "_view_count": null,
      "_view_module": "@jupyter-widgets/controls",
      "_view_module_version": "1.5.0",
      "_view_name": "HTMLView",
      "description": "",
      "description_tooltip": null,
      "layout": "IPY_MODEL_f6bce899dfff414e8dd091de4beed16f",
      "placeholder": "​",
      "style": "IPY_MODEL_86a61b25819f42cc9be724dc7eecb83f",
      "value": " 219/219 [00:03&lt;00:00, 63.25 MiB/s]"
     }
    },
    "1be29ec6a7374fa3bfa578d2278b5046": {
     "model_module": "@jupyter-widgets/base",
     "model_module_version": "1.2.0",
     "model_name": "LayoutModel",
     "state": {
      "_model_module": "@jupyter-widgets/base",
      "_model_module_version": "1.2.0",
      "_model_name": "LayoutModel",
      "_view_count": null,
      "_view_module": "@jupyter-widgets/base",
      "_view_module_version": "1.2.0",
      "_view_name": "LayoutView",
      "align_content": null,
      "align_items": null,
      "align_self": null,
      "border": null,
      "bottom": null,
      "display": null,
      "flex": null,
      "flex_flow": null,
      "grid_area": null,
      "grid_auto_columns": null,
      "grid_auto_flow": null,
      "grid_auto_rows": null,
      "grid_column": null,
      "grid_gap": null,
      "grid_row": null,
      "grid_template_areas": null,
      "grid_template_columns": null,
      "grid_template_rows": null,
      "height": null,
      "justify_content": null,
      "justify_items": null,
      "left": null,
      "margin": null,
      "max_height": null,
      "max_width": null,
      "min_height": null,
      "min_width": null,
      "object_fit": null,
      "object_position": null,
      "order": null,
      "overflow": null,
      "overflow_x": null,
      "overflow_y": null,
      "padding": null,
      "right": null,
      "top": null,
      "visibility": null,
      "width": null
     }
    },
    "1e66f7a709e04b7f8cac3059cd34f094": {
     "model_module": "@jupyter-widgets/controls",
     "model_module_version": "1.5.0",
     "model_name": "ProgressStyleModel",
     "state": {
      "_model_module": "@jupyter-widgets/controls",
      "_model_module_version": "1.5.0",
      "_model_name": "ProgressStyleModel",
      "_view_count": null,
      "_view_module": "@jupyter-widgets/base",
      "_view_module_version": "1.2.0",
      "_view_name": "StyleView",
      "bar_color": null,
      "description_width": ""
     }
    },
    "210ecba3cf0540189e479fb6a0c061d2": {
     "model_module": "@jupyter-widgets/base",
     "model_module_version": "1.2.0",
     "model_name": "LayoutModel",
     "state": {
      "_model_module": "@jupyter-widgets/base",
      "_model_module_version": "1.2.0",
      "_model_name": "LayoutModel",
      "_view_count": null,
      "_view_module": "@jupyter-widgets/base",
      "_view_module_version": "1.2.0",
      "_view_name": "LayoutView",
      "align_content": null,
      "align_items": null,
      "align_self": null,
      "border": null,
      "bottom": null,
      "display": null,
      "flex": null,
      "flex_flow": null,
      "grid_area": null,
      "grid_auto_columns": null,
      "grid_auto_flow": null,
      "grid_auto_rows": null,
      "grid_column": null,
      "grid_gap": null,
      "grid_row": null,
      "grid_template_areas": null,
      "grid_template_columns": null,
      "grid_template_rows": null,
      "height": null,
      "justify_content": null,
      "justify_items": null,
      "left": null,
      "margin": null,
      "max_height": null,
      "max_width": null,
      "min_height": null,
      "min_width": null,
      "object_fit": null,
      "object_position": null,
      "order": null,
      "overflow": null,
      "overflow_x": null,
      "overflow_y": null,
      "padding": null,
      "right": null,
      "top": null,
      "visibility": null,
      "width": null
     }
    },
    "24f089ccd9814ff1907bb33b597dc220": {
     "model_module": "@jupyter-widgets/controls",
     "model_module_version": "1.5.0",
     "model_name": "ProgressStyleModel",
     "state": {
      "_model_module": "@jupyter-widgets/controls",
      "_model_module_version": "1.5.0",
      "_model_name": "ProgressStyleModel",
      "_view_count": null,
      "_view_module": "@jupyter-widgets/base",
      "_view_module_version": "1.2.0",
      "_view_name": "StyleView",
      "bar_color": null,
      "description_width": ""
     }
    },
    "2655165a55c24ff4b0fcfc3605bc7c96": {
     "model_module": "@jupyter-widgets/controls",
     "model_module_version": "1.5.0",
     "model_name": "HTMLModel",
     "state": {
      "_dom_classes": [],
      "_model_module": "@jupyter-widgets/controls",
      "_model_module_version": "1.5.0",
      "_model_name": "HTMLModel",
      "_view_count": null,
      "_view_module": "@jupyter-widgets/controls",
      "_view_module_version": "1.5.0",
      "_view_name": "HTMLView",
      "description": "",
      "description_tooltip": null,
      "layout": "IPY_MODEL_e6b8bf9f5af04f3b9325616f9d9ea9ae",
      "placeholder": "​",
      "style": "IPY_MODEL_c42467f842aa4d7fa5a9ff482fd457b2",
      "value": "Shuffling /root/tensorflow_datasets/rock_paper_scissors/incomplete.8ZL4MY_3.0.0/rock_paper_scissors-test.tfrecord*...:   0%"
     }
    },
    "27cbe3bc774244a4887674ebce72d5c7": {
     "model_module": "@jupyter-widgets/controls",
     "model_module_version": "1.5.0",
     "model_name": "FloatProgressModel",
     "state": {
      "_dom_classes": [],
      "_model_module": "@jupyter-widgets/controls",
      "_model_module_version": "1.5.0",
      "_model_name": "FloatProgressModel",
      "_view_count": null,
      "_view_module": "@jupyter-widgets/controls",
      "_view_module_version": "1.5.0",
      "_view_name": "ProgressView",
      "bar_style": "info",
      "description": "",
      "description_tooltip": null,
      "layout": "IPY_MODEL_4625f53b67aa43f7ab96f2d687cdecde",
      "max": 1,
      "min": 0,
      "orientation": "horizontal",
      "style": "IPY_MODEL_24f089ccd9814ff1907bb33b597dc220",
      "value": 1
     }
    },
    "2ba537b8a4cc4585adb60a63f531adbb": {
     "model_module": "@jupyter-widgets/controls",
     "model_module_version": "1.5.0",
     "model_name": "ProgressStyleModel",
     "state": {
      "_model_module": "@jupyter-widgets/controls",
      "_model_module_version": "1.5.0",
      "_model_name": "ProgressStyleModel",
      "_view_count": null,
      "_view_module": "@jupyter-widgets/base",
      "_view_module_version": "1.2.0",
      "_view_name": "StyleView",
      "bar_color": null,
      "description_width": ""
     }
    },
    "2f4ca9af8a6b4b66bdeae96b4faf57e8": {
     "model_module": "@jupyter-widgets/controls",
     "model_module_version": "1.5.0",
     "model_name": "HTMLModel",
     "state": {
      "_dom_classes": [],
      "_model_module": "@jupyter-widgets/controls",
      "_model_module_version": "1.5.0",
      "_model_name": "HTMLModel",
      "_view_count": null,
      "_view_module": "@jupyter-widgets/controls",
      "_view_module_version": "1.5.0",
      "_view_name": "HTMLView",
      "description": "",
      "description_tooltip": null,
      "layout": "IPY_MODEL_a239788f79ef4fa195300b02c32c181f",
      "placeholder": "​",
      "style": "IPY_MODEL_4d9e974fd5724ca08b505f7a121a681f",
      "value": " 2/2 [00:03&lt;00:00,  1.57s/ splits]"
     }
    },
    "3470831ce5e64e5ca0ad3d131fe8f719": {
     "model_module": "@jupyter-widgets/base",
     "model_module_version": "1.2.0",
     "model_name": "LayoutModel",
     "state": {
      "_model_module": "@jupyter-widgets/base",
      "_model_module_version": "1.2.0",
      "_model_name": "LayoutModel",
      "_view_count": null,
      "_view_module": "@jupyter-widgets/base",
      "_view_module_version": "1.2.0",
      "_view_name": "LayoutView",
      "align_content": null,
      "align_items": null,
      "align_self": null,
      "border": null,
      "bottom": null,
      "display": null,
      "flex": null,
      "flex_flow": null,
      "grid_area": null,
      "grid_auto_columns": null,
      "grid_auto_flow": null,
      "grid_auto_rows": null,
      "grid_column": null,
      "grid_gap": null,
      "grid_row": null,
      "grid_template_areas": null,
      "grid_template_columns": null,
      "grid_template_rows": null,
      "height": null,
      "justify_content": null,
      "justify_items": null,
      "left": null,
      "margin": null,
      "max_height": null,
      "max_width": null,
      "min_height": null,
      "min_width": null,
      "object_fit": null,
      "object_position": null,
      "order": null,
      "overflow": null,
      "overflow_x": null,
      "overflow_y": null,
      "padding": null,
      "right": null,
      "top": null,
      "visibility": null,
      "width": null
     }
    },
    "37832b115310492784c2916946b1f1b5": {
     "model_module": "@jupyter-widgets/base",
     "model_module_version": "1.2.0",
     "model_name": "LayoutModel",
     "state": {
      "_model_module": "@jupyter-widgets/base",
      "_model_module_version": "1.2.0",
      "_model_name": "LayoutModel",
      "_view_count": null,
      "_view_module": "@jupyter-widgets/base",
      "_view_module_version": "1.2.0",
      "_view_name": "LayoutView",
      "align_content": null,
      "align_items": null,
      "align_self": null,
      "border": null,
      "bottom": null,
      "display": null,
      "flex": null,
      "flex_flow": null,
      "grid_area": null,
      "grid_auto_columns": null,
      "grid_auto_flow": null,
      "grid_auto_rows": null,
      "grid_column": null,
      "grid_gap": null,
      "grid_row": null,
      "grid_template_areas": null,
      "grid_template_columns": null,
      "grid_template_rows": null,
      "height": null,
      "justify_content": null,
      "justify_items": null,
      "left": null,
      "margin": null,
      "max_height": null,
      "max_width": null,
      "min_height": null,
      "min_width": null,
      "object_fit": null,
      "object_position": null,
      "order": null,
      "overflow": null,
      "overflow_x": null,
      "overflow_y": null,
      "padding": null,
      "right": null,
      "top": null,
      "visibility": null,
      "width": null
     }
    },
    "3f63a53368db474fab5f08ab6e4cea2a": {
     "model_module": "@jupyter-widgets/controls",
     "model_module_version": "1.5.0",
     "model_name": "ProgressStyleModel",
     "state": {
      "_model_module": "@jupyter-widgets/controls",
      "_model_module_version": "1.5.0",
      "_model_name": "ProgressStyleModel",
      "_view_count": null,
      "_view_module": "@jupyter-widgets/base",
      "_view_module_version": "1.2.0",
      "_view_name": "StyleView",
      "bar_color": null,
      "description_width": ""
     }
    },
    "410ebe32b9b146e693a292efde6ce09c": {
     "model_module": "@jupyter-widgets/base",
     "model_module_version": "1.2.0",
     "model_name": "LayoutModel",
     "state": {
      "_model_module": "@jupyter-widgets/base",
      "_model_module_version": "1.2.0",
      "_model_name": "LayoutModel",
      "_view_count": null,
      "_view_module": "@jupyter-widgets/base",
      "_view_module_version": "1.2.0",
      "_view_name": "LayoutView",
      "align_content": null,
      "align_items": null,
      "align_self": null,
      "border": null,
      "bottom": null,
      "display": null,
      "flex": null,
      "flex_flow": null,
      "grid_area": null,
      "grid_auto_columns": null,
      "grid_auto_flow": null,
      "grid_auto_rows": null,
      "grid_column": null,
      "grid_gap": null,
      "grid_row": null,
      "grid_template_areas": null,
      "grid_template_columns": null,
      "grid_template_rows": null,
      "height": null,
      "justify_content": null,
      "justify_items": null,
      "left": null,
      "margin": null,
      "max_height": null,
      "max_width": null,
      "min_height": null,
      "min_width": null,
      "object_fit": null,
      "object_position": null,
      "order": null,
      "overflow": null,
      "overflow_x": null,
      "overflow_y": null,
      "padding": null,
      "right": null,
      "top": null,
      "visibility": "hidden",
      "width": null
     }
    },
    "4625f53b67aa43f7ab96f2d687cdecde": {
     "model_module": "@jupyter-widgets/base",
     "model_module_version": "1.2.0",
     "model_name": "LayoutModel",
     "state": {
      "_model_module": "@jupyter-widgets/base",
      "_model_module_version": "1.2.0",
      "_model_name": "LayoutModel",
      "_view_count": null,
      "_view_module": "@jupyter-widgets/base",
      "_view_module_version": "1.2.0",
      "_view_name": "LayoutView",
      "align_content": null,
      "align_items": null,
      "align_self": null,
      "border": null,
      "bottom": null,
      "display": null,
      "flex": null,
      "flex_flow": null,
      "grid_area": null,
      "grid_auto_columns": null,
      "grid_auto_flow": null,
      "grid_auto_rows": null,
      "grid_column": null,
      "grid_gap": null,
      "grid_row": null,
      "grid_template_areas": null,
      "grid_template_columns": null,
      "grid_template_rows": null,
      "height": null,
      "justify_content": null,
      "justify_items": null,
      "left": null,
      "margin": null,
      "max_height": null,
      "max_width": null,
      "min_height": null,
      "min_width": null,
      "object_fit": null,
      "object_position": null,
      "order": null,
      "overflow": null,
      "overflow_x": null,
      "overflow_y": null,
      "padding": null,
      "right": null,
      "top": null,
      "visibility": null,
      "width": "20px"
     }
    },
    "47558244308e4034bcf9ee4343ee8d45": {
     "model_module": "@jupyter-widgets/controls",
     "model_module_version": "1.5.0",
     "model_name": "ProgressStyleModel",
     "state": {
      "_model_module": "@jupyter-widgets/controls",
      "_model_module_version": "1.5.0",
      "_model_name": "ProgressStyleModel",
      "_view_count": null,
      "_view_module": "@jupyter-widgets/base",
      "_view_module_version": "1.2.0",
      "_view_name": "StyleView",
      "bar_color": null,
      "description_width": ""
     }
    },
    "49036df3d8c144f6b15890f983741804": {
     "model_module": "@jupyter-widgets/controls",
     "model_module_version": "1.5.0",
     "model_name": "HBoxModel",
     "state": {
      "_dom_classes": [],
      "_model_module": "@jupyter-widgets/controls",
      "_model_module_version": "1.5.0",
      "_model_name": "HBoxModel",
      "_view_count": null,
      "_view_module": "@jupyter-widgets/controls",
      "_view_module_version": "1.5.0",
      "_view_name": "HBoxView",
      "box_style": "",
      "children": [
       "IPY_MODEL_fdb4683e073d4340b73117841d4b05ba",
       "IPY_MODEL_7ecc822779764d8fb3a8ad20a4a96b00",
       "IPY_MODEL_9b7b20009ad34a66810d83f6538a7445"
      ],
      "layout": "IPY_MODEL_0c396681b18e43a89b132c0d6229dd84"
     }
    },
    "4bc85ca8d2f343d88a57eb96b99b6fc5": {
     "model_module": "@jupyter-widgets/base",
     "model_module_version": "1.2.0",
     "model_name": "LayoutModel",
     "state": {
      "_model_module": "@jupyter-widgets/base",
      "_model_module_version": "1.2.0",
      "_model_name": "LayoutModel",
      "_view_count": null,
      "_view_module": "@jupyter-widgets/base",
      "_view_module_version": "1.2.0",
      "_view_name": "LayoutView",
      "align_content": null,
      "align_items": null,
      "align_self": null,
      "border": null,
      "bottom": null,
      "display": null,
      "flex": null,
      "flex_flow": null,
      "grid_area": null,
      "grid_auto_columns": null,
      "grid_auto_flow": null,
      "grid_auto_rows": null,
      "grid_column": null,
      "grid_gap": null,
      "grid_row": null,
      "grid_template_areas": null,
      "grid_template_columns": null,
      "grid_template_rows": null,
      "height": null,
      "justify_content": null,
      "justify_items": null,
      "left": null,
      "margin": null,
      "max_height": null,
      "max_width": null,
      "min_height": null,
      "min_width": null,
      "object_fit": null,
      "object_position": null,
      "order": null,
      "overflow": null,
      "overflow_x": null,
      "overflow_y": null,
      "padding": null,
      "right": null,
      "top": null,
      "visibility": null,
      "width": null
     }
    },
    "4d9863d182314646bc78fb84a83ece8e": {
     "model_module": "@jupyter-widgets/controls",
     "model_module_version": "1.5.0",
     "model_name": "HBoxModel",
     "state": {
      "_dom_classes": [],
      "_model_module": "@jupyter-widgets/controls",
      "_model_module_version": "1.5.0",
      "_model_name": "HBoxModel",
      "_view_count": null,
      "_view_module": "@jupyter-widgets/controls",
      "_view_module_version": "1.5.0",
      "_view_name": "HBoxView",
      "box_style": "",
      "children": [
       "IPY_MODEL_dbda035f2cab4778b6d2df4bbefb0cbe",
       "IPY_MODEL_9a368f33c8744a2ebe95e1cb37b33fae",
       "IPY_MODEL_2f4ca9af8a6b4b66bdeae96b4faf57e8"
      ],
      "layout": "IPY_MODEL_6f7b3f0fbaa94c20a979b7c0f506f3dc"
     }
    },
    "4d9e974fd5724ca08b505f7a121a681f": {
     "model_module": "@jupyter-widgets/controls",
     "model_module_version": "1.5.0",
     "model_name": "DescriptionStyleModel",
     "state": {
      "_model_module": "@jupyter-widgets/controls",
      "_model_module_version": "1.5.0",
      "_model_name": "DescriptionStyleModel",
      "_view_count": null,
      "_view_module": "@jupyter-widgets/base",
      "_view_module_version": "1.2.0",
      "_view_name": "StyleView",
      "description_width": ""
     }
    },
    "4e273016398543528f582faf2d2d5748": {
     "model_module": "@jupyter-widgets/controls",
     "model_module_version": "1.5.0",
     "model_name": "DescriptionStyleModel",
     "state": {
      "_model_module": "@jupyter-widgets/controls",
      "_model_module_version": "1.5.0",
      "_model_name": "DescriptionStyleModel",
      "_view_count": null,
      "_view_module": "@jupyter-widgets/base",
      "_view_module_version": "1.2.0",
      "_view_name": "StyleView",
      "description_width": ""
     }
    },
    "5458bf90180a437996d5f8e0f5458c6d": {
     "model_module": "@jupyter-widgets/controls",
     "model_module_version": "1.5.0",
     "model_name": "DescriptionStyleModel",
     "state": {
      "_model_module": "@jupyter-widgets/controls",
      "_model_module_version": "1.5.0",
      "_model_name": "DescriptionStyleModel",
      "_view_count": null,
      "_view_module": "@jupyter-widgets/base",
      "_view_module_version": "1.2.0",
      "_view_name": "StyleView",
      "description_width": ""
     }
    },
    "59e8bb661cf6416ba661fcb7f2066fad": {
     "model_module": "@jupyter-widgets/base",
     "model_module_version": "1.2.0",
     "model_name": "LayoutModel",
     "state": {
      "_model_module": "@jupyter-widgets/base",
      "_model_module_version": "1.2.0",
      "_model_name": "LayoutModel",
      "_view_count": null,
      "_view_module": "@jupyter-widgets/base",
      "_view_module_version": "1.2.0",
      "_view_name": "LayoutView",
      "align_content": null,
      "align_items": null,
      "align_self": null,
      "border": null,
      "bottom": null,
      "display": null,
      "flex": null,
      "flex_flow": null,
      "grid_area": null,
      "grid_auto_columns": null,
      "grid_auto_flow": null,
      "grid_auto_rows": null,
      "grid_column": null,
      "grid_gap": null,
      "grid_row": null,
      "grid_template_areas": null,
      "grid_template_columns": null,
      "grid_template_rows": null,
      "height": null,
      "justify_content": null,
      "justify_items": null,
      "left": null,
      "margin": null,
      "max_height": null,
      "max_width": null,
      "min_height": null,
      "min_width": null,
      "object_fit": null,
      "object_position": null,
      "order": null,
      "overflow": null,
      "overflow_x": null,
      "overflow_y": null,
      "padding": null,
      "right": null,
      "top": null,
      "visibility": null,
      "width": null
     }
    },
    "5b9a0b39c3224a47b87dede08257d7de": {
     "model_module": "@jupyter-widgets/controls",
     "model_module_version": "1.5.0",
     "model_name": "DescriptionStyleModel",
     "state": {
      "_model_module": "@jupyter-widgets/controls",
      "_model_module_version": "1.5.0",
      "_model_name": "DescriptionStyleModel",
      "_view_count": null,
      "_view_module": "@jupyter-widgets/base",
      "_view_module_version": "1.2.0",
      "_view_name": "StyleView",
      "description_width": ""
     }
    },
    "5f617997c0ef4f8aa04f987b4a4b204a": {
     "model_module": "@jupyter-widgets/base",
     "model_module_version": "1.2.0",
     "model_name": "LayoutModel",
     "state": {
      "_model_module": "@jupyter-widgets/base",
      "_model_module_version": "1.2.0",
      "_model_name": "LayoutModel",
      "_view_count": null,
      "_view_module": "@jupyter-widgets/base",
      "_view_module_version": "1.2.0",
      "_view_name": "LayoutView",
      "align_content": null,
      "align_items": null,
      "align_self": null,
      "border": null,
      "bottom": null,
      "display": null,
      "flex": null,
      "flex_flow": null,
      "grid_area": null,
      "grid_auto_columns": null,
      "grid_auto_flow": null,
      "grid_auto_rows": null,
      "grid_column": null,
      "grid_gap": null,
      "grid_row": null,
      "grid_template_areas": null,
      "grid_template_columns": null,
      "grid_template_rows": null,
      "height": null,
      "justify_content": null,
      "justify_items": null,
      "left": null,
      "margin": null,
      "max_height": null,
      "max_width": null,
      "min_height": null,
      "min_width": null,
      "object_fit": null,
      "object_position": null,
      "order": null,
      "overflow": null,
      "overflow_x": null,
      "overflow_y": null,
      "padding": null,
      "right": null,
      "top": null,
      "visibility": null,
      "width": null
     }
    },
    "627143f2a7564b59a6b5c09dffa43d42": {
     "model_module": "@jupyter-widgets/controls",
     "model_module_version": "1.5.0",
     "model_name": "DescriptionStyleModel",
     "state": {
      "_model_module": "@jupyter-widgets/controls",
      "_model_module_version": "1.5.0",
      "_model_name": "DescriptionStyleModel",
      "_view_count": null,
      "_view_module": "@jupyter-widgets/base",
      "_view_module_version": "1.2.0",
      "_view_name": "StyleView",
      "description_width": ""
     }
    },
    "674755148b014a4cbd6106153fa84318": {
     "model_module": "@jupyter-widgets/base",
     "model_module_version": "1.2.0",
     "model_name": "LayoutModel",
     "state": {
      "_model_module": "@jupyter-widgets/base",
      "_model_module_version": "1.2.0",
      "_model_name": "LayoutModel",
      "_view_count": null,
      "_view_module": "@jupyter-widgets/base",
      "_view_module_version": "1.2.0",
      "_view_name": "LayoutView",
      "align_content": null,
      "align_items": null,
      "align_self": null,
      "border": null,
      "bottom": null,
      "display": null,
      "flex": null,
      "flex_flow": null,
      "grid_area": null,
      "grid_auto_columns": null,
      "grid_auto_flow": null,
      "grid_auto_rows": null,
      "grid_column": null,
      "grid_gap": null,
      "grid_row": null,
      "grid_template_areas": null,
      "grid_template_columns": null,
      "grid_template_rows": null,
      "height": null,
      "justify_content": null,
      "justify_items": null,
      "left": null,
      "margin": null,
      "max_height": null,
      "max_width": null,
      "min_height": null,
      "min_width": null,
      "object_fit": null,
      "object_position": null,
      "order": null,
      "overflow": null,
      "overflow_x": null,
      "overflow_y": null,
      "padding": null,
      "right": null,
      "top": null,
      "visibility": null,
      "width": null
     }
    },
    "6bbe473b66ed46a388a26bfbc33a6b9b": {
     "model_module": "@jupyter-widgets/base",
     "model_module_version": "1.2.0",
     "model_name": "LayoutModel",
     "state": {
      "_model_module": "@jupyter-widgets/base",
      "_model_module_version": "1.2.0",
      "_model_name": "LayoutModel",
      "_view_count": null,
      "_view_module": "@jupyter-widgets/base",
      "_view_module_version": "1.2.0",
      "_view_name": "LayoutView",
      "align_content": null,
      "align_items": null,
      "align_self": null,
      "border": null,
      "bottom": null,
      "display": null,
      "flex": null,
      "flex_flow": null,
      "grid_area": null,
      "grid_auto_columns": null,
      "grid_auto_flow": null,
      "grid_auto_rows": null,
      "grid_column": null,
      "grid_gap": null,
      "grid_row": null,
      "grid_template_areas": null,
      "grid_template_columns": null,
      "grid_template_rows": null,
      "height": null,
      "justify_content": null,
      "justify_items": null,
      "left": null,
      "margin": null,
      "max_height": null,
      "max_width": null,
      "min_height": null,
      "min_width": null,
      "object_fit": null,
      "object_position": null,
      "order": null,
      "overflow": null,
      "overflow_x": null,
      "overflow_y": null,
      "padding": null,
      "right": null,
      "top": null,
      "visibility": null,
      "width": "20px"
     }
    },
    "6d8ec3ae4e4648a98f32fbba9dce04e7": {
     "model_module": "@jupyter-widgets/base",
     "model_module_version": "1.2.0",
     "model_name": "LayoutModel",
     "state": {
      "_model_module": "@jupyter-widgets/base",
      "_model_module_version": "1.2.0",
      "_model_name": "LayoutModel",
      "_view_count": null,
      "_view_module": "@jupyter-widgets/base",
      "_view_module_version": "1.2.0",
      "_view_name": "LayoutView",
      "align_content": null,
      "align_items": null,
      "align_self": null,
      "border": null,
      "bottom": null,
      "display": null,
      "flex": null,
      "flex_flow": null,
      "grid_area": null,
      "grid_auto_columns": null,
      "grid_auto_flow": null,
      "grid_auto_rows": null,
      "grid_column": null,
      "grid_gap": null,
      "grid_row": null,
      "grid_template_areas": null,
      "grid_template_columns": null,
      "grid_template_rows": null,
      "height": null,
      "justify_content": null,
      "justify_items": null,
      "left": null,
      "margin": null,
      "max_height": null,
      "max_width": null,
      "min_height": null,
      "min_width": null,
      "object_fit": null,
      "object_position": null,
      "order": null,
      "overflow": null,
      "overflow_x": null,
      "overflow_y": null,
      "padding": null,
      "right": null,
      "top": null,
      "visibility": null,
      "width": null
     }
    },
    "6eac5a4ba6d1476f934279565bc9fa58": {
     "model_module": "@jupyter-widgets/controls",
     "model_module_version": "1.5.0",
     "model_name": "DescriptionStyleModel",
     "state": {
      "_model_module": "@jupyter-widgets/controls",
      "_model_module_version": "1.5.0",
      "_model_name": "DescriptionStyleModel",
      "_view_count": null,
      "_view_module": "@jupyter-widgets/base",
      "_view_module_version": "1.2.0",
      "_view_name": "StyleView",
      "description_width": ""
     }
    },
    "6f7b3f0fbaa94c20a979b7c0f506f3dc": {
     "model_module": "@jupyter-widgets/base",
     "model_module_version": "1.2.0",
     "model_name": "LayoutModel",
     "state": {
      "_model_module": "@jupyter-widgets/base",
      "_model_module_version": "1.2.0",
      "_model_name": "LayoutModel",
      "_view_count": null,
      "_view_module": "@jupyter-widgets/base",
      "_view_module_version": "1.2.0",
      "_view_name": "LayoutView",
      "align_content": null,
      "align_items": null,
      "align_self": null,
      "border": null,
      "bottom": null,
      "display": null,
      "flex": null,
      "flex_flow": null,
      "grid_area": null,
      "grid_auto_columns": null,
      "grid_auto_flow": null,
      "grid_auto_rows": null,
      "grid_column": null,
      "grid_gap": null,
      "grid_row": null,
      "grid_template_areas": null,
      "grid_template_columns": null,
      "grid_template_rows": null,
      "height": null,
      "justify_content": null,
      "justify_items": null,
      "left": null,
      "margin": null,
      "max_height": null,
      "max_width": null,
      "min_height": null,
      "min_width": null,
      "object_fit": null,
      "object_position": null,
      "order": null,
      "overflow": null,
      "overflow_x": null,
      "overflow_y": null,
      "padding": null,
      "right": null,
      "top": null,
      "visibility": "hidden",
      "width": null
     }
    },
    "729988dea343423bbb188b3e079e5a46": {
     "model_module": "@jupyter-widgets/controls",
     "model_module_version": "1.5.0",
     "model_name": "HBoxModel",
     "state": {
      "_dom_classes": [],
      "_model_module": "@jupyter-widgets/controls",
      "_model_module_version": "1.5.0",
      "_model_name": "HBoxModel",
      "_view_count": null,
      "_view_module": "@jupyter-widgets/controls",
      "_view_module_version": "1.5.0",
      "_view_name": "HBoxView",
      "box_style": "",
      "children": [
       "IPY_MODEL_01ab6bee78cd44ef914f31f5a98c7e0d",
       "IPY_MODEL_1aaa7b6db7f64256a213132ff0141fd1",
       "IPY_MODEL_1b40a394d5ed41e5a9eb625988bf273c"
      ],
      "layout": "IPY_MODEL_59e8bb661cf6416ba661fcb7f2066fad"
     }
    },
    "73348e6d72804366b453f78805640fcf": {
     "model_module": "@jupyter-widgets/controls",
     "model_module_version": "1.5.0",
     "model_name": "DescriptionStyleModel",
     "state": {
      "_model_module": "@jupyter-widgets/controls",
      "_model_module_version": "1.5.0",
      "_model_name": "DescriptionStyleModel",
      "_view_count": null,
      "_view_module": "@jupyter-widgets/base",
      "_view_module_version": "1.2.0",
      "_view_name": "StyleView",
      "description_width": ""
     }
    },
    "799755f7030d47a6ac91af4c45a51d70": {
     "model_module": "@jupyter-widgets/controls",
     "model_module_version": "1.5.0",
     "model_name": "HTMLModel",
     "state": {
      "_dom_classes": [],
      "_model_module": "@jupyter-widgets/controls",
      "_model_module_version": "1.5.0",
      "_model_name": "HTMLModel",
      "_view_count": null,
      "_view_module": "@jupyter-widgets/controls",
      "_view_module_version": "1.5.0",
      "_view_name": "HTMLView",
      "description": "",
      "description_tooltip": null,
      "layout": "IPY_MODEL_9581caddb5084052acb55b333d555f84",
      "placeholder": "​",
      "style": "IPY_MODEL_73348e6d72804366b453f78805640fcf",
      "value": "Shuffling /root/tensorflow_datasets/rock_paper_scissors/incomplete.8ZL4MY_3.0.0/rock_paper_scissors-train.tfrecord*...:  97%"
     }
    },
    "7cd8036c62e145399046f7fc59cd0520": {
     "model_module": "@jupyter-widgets/controls",
     "model_module_version": "1.5.0",
     "model_name": "HTMLModel",
     "state": {
      "_dom_classes": [],
      "_model_module": "@jupyter-widgets/controls",
      "_model_module_version": "1.5.0",
      "_model_name": "HTMLModel",
      "_view_count": null,
      "_view_module": "@jupyter-widgets/controls",
      "_view_module_version": "1.5.0",
      "_view_name": "HTMLView",
      "description": "",
      "description_tooltip": null,
      "layout": "IPY_MODEL_4bc85ca8d2f343d88a57eb96b99b6fc5",
      "placeholder": "​",
      "style": "IPY_MODEL_04e0ff55dd0a4680add60c3180e8d1fe",
      "value": "Generating test examples...: "
     }
    },
    "7ecc822779764d8fb3a8ad20a4a96b00": {
     "model_module": "@jupyter-widgets/controls",
     "model_module_version": "1.5.0",
     "model_name": "FloatProgressModel",
     "state": {
      "_dom_classes": [],
      "_model_module": "@jupyter-widgets/controls",
      "_model_module_version": "1.5.0",
      "_model_name": "FloatProgressModel",
      "_view_count": null,
      "_view_module": "@jupyter-widgets/controls",
      "_view_module_version": "1.5.0",
      "_view_name": "ProgressView",
      "bar_style": "info",
      "description": "",
      "description_tooltip": null,
      "layout": "IPY_MODEL_917dc7ab612541fc959d1f5993ce0714",
      "max": 1,
      "min": 0,
      "orientation": "horizontal",
      "style": "IPY_MODEL_2ba537b8a4cc4585adb60a63f531adbb",
      "value": 1
     }
    },
    "809c0bccd147406baa76cd04820b864c": {
     "model_module": "@jupyter-widgets/controls",
     "model_module_version": "1.5.0",
     "model_name": "HBoxModel",
     "state": {
      "_dom_classes": [],
      "_model_module": "@jupyter-widgets/controls",
      "_model_module_version": "1.5.0",
      "_model_name": "HBoxModel",
      "_view_count": null,
      "_view_module": "@jupyter-widgets/controls",
      "_view_module_version": "1.5.0",
      "_view_name": "HBoxView",
      "box_style": "",
      "children": [
       "IPY_MODEL_2655165a55c24ff4b0fcfc3605bc7c96",
       "IPY_MODEL_90a5d9cd34dd47a097ac27928530147a",
       "IPY_MODEL_94c269641e4443e1b41fe27fdb976b26"
      ],
      "layout": "IPY_MODEL_df0f912726994c019f68b3347c03d855"
     }
    },
    "8686cffb07a9475d917b89d426c9e4df": {
     "model_module": "@jupyter-widgets/controls",
     "model_module_version": "1.5.0",
     "model_name": "ProgressStyleModel",
     "state": {
      "_model_module": "@jupyter-widgets/controls",
      "_model_module_version": "1.5.0",
      "_model_name": "ProgressStyleModel",
      "_view_count": null,
      "_view_module": "@jupyter-widgets/base",
      "_view_module_version": "1.2.0",
      "_view_name": "StyleView",
      "bar_color": null,
      "description_width": ""
     }
    },
    "86a61b25819f42cc9be724dc7eecb83f": {
     "model_module": "@jupyter-widgets/controls",
     "model_module_version": "1.5.0",
     "model_name": "DescriptionStyleModel",
     "state": {
      "_model_module": "@jupyter-widgets/controls",
      "_model_module_version": "1.5.0",
      "_model_name": "DescriptionStyleModel",
      "_view_count": null,
      "_view_module": "@jupyter-widgets/base",
      "_view_module_version": "1.2.0",
      "_view_name": "StyleView",
      "description_width": ""
     }
    },
    "90a5d9cd34dd47a097ac27928530147a": {
     "model_module": "@jupyter-widgets/controls",
     "model_module_version": "1.5.0",
     "model_name": "FloatProgressModel",
     "state": {
      "_dom_classes": [],
      "_model_module": "@jupyter-widgets/controls",
      "_model_module_version": "1.5.0",
      "_model_name": "FloatProgressModel",
      "_view_count": null,
      "_view_module": "@jupyter-widgets/controls",
      "_view_module_version": "1.5.0",
      "_view_name": "ProgressView",
      "bar_style": "",
      "description": "",
      "description_tooltip": null,
      "layout": "IPY_MODEL_1be29ec6a7374fa3bfa578d2278b5046",
      "max": 372,
      "min": 0,
      "orientation": "horizontal",
      "style": "IPY_MODEL_47558244308e4034bcf9ee4343ee8d45",
      "value": 372
     }
    },
    "917dc7ab612541fc959d1f5993ce0714": {
     "model_module": "@jupyter-widgets/base",
     "model_module_version": "1.2.0",
     "model_name": "LayoutModel",
     "state": {
      "_model_module": "@jupyter-widgets/base",
      "_model_module_version": "1.2.0",
      "_model_name": "LayoutModel",
      "_view_count": null,
      "_view_module": "@jupyter-widgets/base",
      "_view_module_version": "1.2.0",
      "_view_name": "LayoutView",
      "align_content": null,
      "align_items": null,
      "align_self": null,
      "border": null,
      "bottom": null,
      "display": null,
      "flex": null,
      "flex_flow": null,
      "grid_area": null,
      "grid_auto_columns": null,
      "grid_auto_flow": null,
      "grid_auto_rows": null,
      "grid_column": null,
      "grid_gap": null,
      "grid_row": null,
      "grid_template_areas": null,
      "grid_template_columns": null,
      "grid_template_rows": null,
      "height": null,
      "justify_content": null,
      "justify_items": null,
      "left": null,
      "margin": null,
      "max_height": null,
      "max_width": null,
      "min_height": null,
      "min_width": null,
      "object_fit": null,
      "object_position": null,
      "order": null,
      "overflow": null,
      "overflow_x": null,
      "overflow_y": null,
      "padding": null,
      "right": null,
      "top": null,
      "visibility": null,
      "width": "20px"
     }
    },
    "94c269641e4443e1b41fe27fdb976b26": {
     "model_module": "@jupyter-widgets/controls",
     "model_module_version": "1.5.0",
     "model_name": "HTMLModel",
     "state": {
      "_dom_classes": [],
      "_model_module": "@jupyter-widgets/controls",
      "_model_module_version": "1.5.0",
      "_model_name": "HTMLModel",
      "_view_count": null,
      "_view_module": "@jupyter-widgets/controls",
      "_view_module_version": "1.5.0",
      "_view_name": "HTMLView",
      "description": "",
      "description_tooltip": null,
      "layout": "IPY_MODEL_37832b115310492784c2916946b1f1b5",
      "placeholder": "​",
      "style": "IPY_MODEL_5458bf90180a437996d5f8e0f5458c6d",
      "value": " 0/372 [00:00&lt;?, ? examples/s]"
     }
    },
    "9581caddb5084052acb55b333d555f84": {
     "model_module": "@jupyter-widgets/base",
     "model_module_version": "1.2.0",
     "model_name": "LayoutModel",
     "state": {
      "_model_module": "@jupyter-widgets/base",
      "_model_module_version": "1.2.0",
      "_model_name": "LayoutModel",
      "_view_count": null,
      "_view_module": "@jupyter-widgets/base",
      "_view_module_version": "1.2.0",
      "_view_name": "LayoutView",
      "align_content": null,
      "align_items": null,
      "align_self": null,
      "border": null,
      "bottom": null,
      "display": null,
      "flex": null,
      "flex_flow": null,
      "grid_area": null,
      "grid_auto_columns": null,
      "grid_auto_flow": null,
      "grid_auto_rows": null,
      "grid_column": null,
      "grid_gap": null,
      "grid_row": null,
      "grid_template_areas": null,
      "grid_template_columns": null,
      "grid_template_rows": null,
      "height": null,
      "justify_content": null,
      "justify_items": null,
      "left": null,
      "margin": null,
      "max_height": null,
      "max_width": null,
      "min_height": null,
      "min_width": null,
      "object_fit": null,
      "object_position": null,
      "order": null,
      "overflow": null,
      "overflow_x": null,
      "overflow_y": null,
      "padding": null,
      "right": null,
      "top": null,
      "visibility": null,
      "width": null
     }
    },
    "985fce942c184b73ad2d690bad0883b4": {
     "model_module": "@jupyter-widgets/controls",
     "model_module_version": "1.5.0",
     "model_name": "FloatProgressModel",
     "state": {
      "_dom_classes": [],
      "_model_module": "@jupyter-widgets/controls",
      "_model_module_version": "1.5.0",
      "_model_name": "FloatProgressModel",
      "_view_count": null,
      "_view_module": "@jupyter-widgets/controls",
      "_view_module_version": "1.5.0",
      "_view_name": "ProgressView",
      "bar_style": "success",
      "description": "",
      "description_tooltip": null,
      "layout": "IPY_MODEL_6bbe473b66ed46a388a26bfbc33a6b9b",
      "max": 1,
      "min": 0,
      "orientation": "horizontal",
      "style": "IPY_MODEL_3f63a53368db474fab5f08ab6e4cea2a",
      "value": 1
     }
    },
    "9a368f33c8744a2ebe95e1cb37b33fae": {
     "model_module": "@jupyter-widgets/controls",
     "model_module_version": "1.5.0",
     "model_name": "FloatProgressModel",
     "state": {
      "_dom_classes": [],
      "_model_module": "@jupyter-widgets/controls",
      "_model_module_version": "1.5.0",
      "_model_name": "FloatProgressModel",
      "_view_count": null,
      "_view_module": "@jupyter-widgets/controls",
      "_view_module_version": "1.5.0",
      "_view_name": "ProgressView",
      "bar_style": "",
      "description": "",
      "description_tooltip": null,
      "layout": "IPY_MODEL_104e235b046344c99375add3dbbb7074",
      "max": 2,
      "min": 0,
      "orientation": "horizontal",
      "style": "IPY_MODEL_8686cffb07a9475d917b89d426c9e4df",
      "value": 2
     }
    },
    "9b7b20009ad34a66810d83f6538a7445": {
     "model_module": "@jupyter-widgets/controls",
     "model_module_version": "1.5.0",
     "model_name": "HTMLModel",
     "state": {
      "_dom_classes": [],
      "_model_module": "@jupyter-widgets/controls",
      "_model_module_version": "1.5.0",
      "_model_name": "HTMLModel",
      "_view_count": null,
      "_view_module": "@jupyter-widgets/controls",
      "_view_module_version": "1.5.0",
      "_view_name": "HTMLView",
      "description": "",
      "description_tooltip": null,
      "layout": "IPY_MODEL_ab4c60cf06ff4aeeb3a05f9f43df6e39",
      "placeholder": "​",
      "style": "IPY_MODEL_f07ccf2e7baa41cfaba7013c0e8972ed",
      "value": " 1420/? [00:01&lt;00:00, 1419.31 examples/s]"
     }
    },
    "a239788f79ef4fa195300b02c32c181f": {
     "model_module": "@jupyter-widgets/base",
     "model_module_version": "1.2.0",
     "model_name": "LayoutModel",
     "state": {
      "_model_module": "@jupyter-widgets/base",
      "_model_module_version": "1.2.0",
      "_model_name": "LayoutModel",
      "_view_count": null,
      "_view_module": "@jupyter-widgets/base",
      "_view_module_version": "1.2.0",
      "_view_name": "LayoutView",
      "align_content": null,
      "align_items": null,
      "align_self": null,
      "border": null,
      "bottom": null,
      "display": null,
      "flex": null,
      "flex_flow": null,
      "grid_area": null,
      "grid_auto_columns": null,
      "grid_auto_flow": null,
      "grid_auto_rows": null,
      "grid_column": null,
      "grid_gap": null,
      "grid_row": null,
      "grid_template_areas": null,
      "grid_template_columns": null,
      "grid_template_rows": null,
      "height": null,
      "justify_content": null,
      "justify_items": null,
      "left": null,
      "margin": null,
      "max_height": null,
      "max_width": null,
      "min_height": null,
      "min_width": null,
      "object_fit": null,
      "object_position": null,
      "order": null,
      "overflow": null,
      "overflow_x": null,
      "overflow_y": null,
      "padding": null,
      "right": null,
      "top": null,
      "visibility": null,
      "width": null
     }
    },
    "ab4c60cf06ff4aeeb3a05f9f43df6e39": {
     "model_module": "@jupyter-widgets/base",
     "model_module_version": "1.2.0",
     "model_name": "LayoutModel",
     "state": {
      "_model_module": "@jupyter-widgets/base",
      "_model_module_version": "1.2.0",
      "_model_name": "LayoutModel",
      "_view_count": null,
      "_view_module": "@jupyter-widgets/base",
      "_view_module_version": "1.2.0",
      "_view_name": "LayoutView",
      "align_content": null,
      "align_items": null,
      "align_self": null,
      "border": null,
      "bottom": null,
      "display": null,
      "flex": null,
      "flex_flow": null,
      "grid_area": null,
      "grid_auto_columns": null,
      "grid_auto_flow": null,
      "grid_auto_rows": null,
      "grid_column": null,
      "grid_gap": null,
      "grid_row": null,
      "grid_template_areas": null,
      "grid_template_columns": null,
      "grid_template_rows": null,
      "height": null,
      "justify_content": null,
      "justify_items": null,
      "left": null,
      "margin": null,
      "max_height": null,
      "max_width": null,
      "min_height": null,
      "min_width": null,
      "object_fit": null,
      "object_position": null,
      "order": null,
      "overflow": null,
      "overflow_x": null,
      "overflow_y": null,
      "padding": null,
      "right": null,
      "top": null,
      "visibility": null,
      "width": null
     }
    },
    "af18315595994991a6014c02118885f9": {
     "model_module": "@jupyter-widgets/controls",
     "model_module_version": "1.5.0",
     "model_name": "HBoxModel",
     "state": {
      "_dom_classes": [],
      "_model_module": "@jupyter-widgets/controls",
      "_model_module_version": "1.5.0",
      "_model_name": "HBoxModel",
      "_view_count": null,
      "_view_module": "@jupyter-widgets/controls",
      "_view_module_version": "1.5.0",
      "_view_name": "HBoxView",
      "box_style": "",
      "children": [
       "IPY_MODEL_799755f7030d47a6ac91af4c45a51d70",
       "IPY_MODEL_e08890cba4094573a4468b6cba82b02f",
       "IPY_MODEL_be9a688ef1a14edebbdb489b5052caab"
      ],
      "layout": "IPY_MODEL_e6ab91e878664e52929072f0b4b469cd"
     }
    },
    "b3deac3aa6d1427c9d19e05ed1dd8214": {
     "model_module": "@jupyter-widgets/controls",
     "model_module_version": "1.5.0",
     "model_name": "HTMLModel",
     "state": {
      "_dom_classes": [],
      "_model_module": "@jupyter-widgets/controls",
      "_model_module_version": "1.5.0",
      "_model_name": "HTMLModel",
      "_view_count": null,
      "_view_module": "@jupyter-widgets/controls",
      "_view_module_version": "1.5.0",
      "_view_name": "HTMLView",
      "description": "",
      "description_tooltip": null,
      "layout": "IPY_MODEL_cc677da3a91e45a5977c85562dfc6d0f",
      "placeholder": "​",
      "style": "IPY_MODEL_4e273016398543528f582faf2d2d5748",
      "value": " 0/? [00:00&lt;?, ? examples/s]"
     }
    },
    "b5c73896f76748cabf37794b3e4aeece": {
     "model_module": "@jupyter-widgets/controls",
     "model_module_version": "1.5.0",
     "model_name": "HTMLModel",
     "state": {
      "_dom_classes": [],
      "_model_module": "@jupyter-widgets/controls",
      "_model_module_version": "1.5.0",
      "_model_name": "HTMLModel",
      "_view_count": null,
      "_view_module": "@jupyter-widgets/controls",
      "_view_module_version": "1.5.0",
      "_view_name": "HTMLView",
      "description": "",
      "description_tooltip": null,
      "layout": "IPY_MODEL_6d8ec3ae4e4648a98f32fbba9dce04e7",
      "placeholder": "​",
      "style": "IPY_MODEL_f9f496c9125546238394422f2aca11f5",
      "value": "Dl Completed...: 100%"
     }
    },
    "be9a688ef1a14edebbdb489b5052caab": {
     "model_module": "@jupyter-widgets/controls",
     "model_module_version": "1.5.0",
     "model_name": "HTMLModel",
     "state": {
      "_dom_classes": [],
      "_model_module": "@jupyter-widgets/controls",
      "_model_module_version": "1.5.0",
      "_model_name": "HTMLModel",
      "_view_count": null,
      "_view_module": "@jupyter-widgets/controls",
      "_view_module_version": "1.5.0",
      "_view_name": "HTMLView",
      "description": "",
      "description_tooltip": null,
      "layout": "IPY_MODEL_3470831ce5e64e5ca0ad3d131fe8f719",
      "placeholder": "​",
      "style": "IPY_MODEL_dabd6f726fbf4779a297fa018b4abf5a",
      "value": " 2448/2520 [00:01&lt;00:00, 2447.55 examples/s]"
     }
    },
    "c18b535d729f4196b291325abdb6b63f": {
     "model_module": "@jupyter-widgets/controls",
     "model_module_version": "1.5.0",
     "model_name": "HTMLModel",
     "state": {
      "_dom_classes": [],
      "_model_module": "@jupyter-widgets/controls",
      "_model_module_version": "1.5.0",
      "_model_name": "HTMLModel",
      "_view_count": null,
      "_view_module": "@jupyter-widgets/controls",
      "_view_module_version": "1.5.0",
      "_view_name": "HTMLView",
      "description": "",
      "description_tooltip": null,
      "layout": "IPY_MODEL_fe55cf7a22b34cdd8dcab3dc917b7180",
      "placeholder": "​",
      "style": "IPY_MODEL_6eac5a4ba6d1476f934279565bc9fa58",
      "value": " 2/2 [00:03&lt;00:00,  1.92s/ url]"
     }
    },
    "c42467f842aa4d7fa5a9ff482fd457b2": {
     "model_module": "@jupyter-widgets/controls",
     "model_module_version": "1.5.0",
     "model_name": "DescriptionStyleModel",
     "state": {
      "_model_module": "@jupyter-widgets/controls",
      "_model_module_version": "1.5.0",
      "_model_name": "DescriptionStyleModel",
      "_view_count": null,
      "_view_module": "@jupyter-widgets/base",
      "_view_module_version": "1.2.0",
      "_view_name": "StyleView",
      "description_width": ""
     }
    },
    "cb06c62d375143c68a6a12abc398729f": {
     "model_module": "@jupyter-widgets/controls",
     "model_module_version": "1.5.0",
     "model_name": "DescriptionStyleModel",
     "state": {
      "_model_module": "@jupyter-widgets/controls",
      "_model_module_version": "1.5.0",
      "_model_name": "DescriptionStyleModel",
      "_view_count": null,
      "_view_module": "@jupyter-widgets/base",
      "_view_module_version": "1.2.0",
      "_view_name": "StyleView",
      "description_width": ""
     }
    },
    "cc677da3a91e45a5977c85562dfc6d0f": {
     "model_module": "@jupyter-widgets/base",
     "model_module_version": "1.2.0",
     "model_name": "LayoutModel",
     "state": {
      "_model_module": "@jupyter-widgets/base",
      "_model_module_version": "1.2.0",
      "_model_name": "LayoutModel",
      "_view_count": null,
      "_view_module": "@jupyter-widgets/base",
      "_view_module_version": "1.2.0",
      "_view_name": "LayoutView",
      "align_content": null,
      "align_items": null,
      "align_self": null,
      "border": null,
      "bottom": null,
      "display": null,
      "flex": null,
      "flex_flow": null,
      "grid_area": null,
      "grid_auto_columns": null,
      "grid_auto_flow": null,
      "grid_auto_rows": null,
      "grid_column": null,
      "grid_gap": null,
      "grid_row": null,
      "grid_template_areas": null,
      "grid_template_columns": null,
      "grid_template_rows": null,
      "height": null,
      "justify_content": null,
      "justify_items": null,
      "left": null,
      "margin": null,
      "max_height": null,
      "max_width": null,
      "min_height": null,
      "min_width": null,
      "object_fit": null,
      "object_position": null,
      "order": null,
      "overflow": null,
      "overflow_x": null,
      "overflow_y": null,
      "padding": null,
      "right": null,
      "top": null,
      "visibility": null,
      "width": null
     }
    },
    "cd2e012dcd06437dbb95fac220963ec0": {
     "model_module": "@jupyter-widgets/base",
     "model_module_version": "1.2.0",
     "model_name": "LayoutModel",
     "state": {
      "_model_module": "@jupyter-widgets/base",
      "_model_module_version": "1.2.0",
      "_model_name": "LayoutModel",
      "_view_count": null,
      "_view_module": "@jupyter-widgets/base",
      "_view_module_version": "1.2.0",
      "_view_name": "LayoutView",
      "align_content": null,
      "align_items": null,
      "align_self": null,
      "border": null,
      "bottom": null,
      "display": null,
      "flex": null,
      "flex_flow": null,
      "grid_area": null,
      "grid_auto_columns": null,
      "grid_auto_flow": null,
      "grid_auto_rows": null,
      "grid_column": null,
      "grid_gap": null,
      "grid_row": null,
      "grid_template_areas": null,
      "grid_template_columns": null,
      "grid_template_rows": null,
      "height": null,
      "justify_content": null,
      "justify_items": null,
      "left": null,
      "margin": null,
      "max_height": null,
      "max_width": null,
      "min_height": null,
      "min_width": null,
      "object_fit": null,
      "object_position": null,
      "order": null,
      "overflow": null,
      "overflow_x": null,
      "overflow_y": null,
      "padding": null,
      "right": null,
      "top": null,
      "visibility": null,
      "width": null
     }
    },
    "d883e78d7f334ba99f9b00ba99b3d5fc": {
     "model_module": "@jupyter-widgets/controls",
     "model_module_version": "1.5.0",
     "model_name": "ProgressStyleModel",
     "state": {
      "_model_module": "@jupyter-widgets/controls",
      "_model_module_version": "1.5.0",
      "_model_name": "ProgressStyleModel",
      "_view_count": null,
      "_view_module": "@jupyter-widgets/base",
      "_view_module_version": "1.2.0",
      "_view_name": "StyleView",
      "bar_color": null,
      "description_width": ""
     }
    },
    "dabd6f726fbf4779a297fa018b4abf5a": {
     "model_module": "@jupyter-widgets/controls",
     "model_module_version": "1.5.0",
     "model_name": "DescriptionStyleModel",
     "state": {
      "_model_module": "@jupyter-widgets/controls",
      "_model_module_version": "1.5.0",
      "_model_name": "DescriptionStyleModel",
      "_view_count": null,
      "_view_module": "@jupyter-widgets/base",
      "_view_module_version": "1.2.0",
      "_view_name": "StyleView",
      "description_width": ""
     }
    },
    "dbda035f2cab4778b6d2df4bbefb0cbe": {
     "model_module": "@jupyter-widgets/controls",
     "model_module_version": "1.5.0",
     "model_name": "HTMLModel",
     "state": {
      "_dom_classes": [],
      "_model_module": "@jupyter-widgets/controls",
      "_model_module_version": "1.5.0",
      "_model_name": "HTMLModel",
      "_view_count": null,
      "_view_module": "@jupyter-widgets/controls",
      "_view_module_version": "1.5.0",
      "_view_name": "HTMLView",
      "description": "",
      "description_tooltip": null,
      "layout": "IPY_MODEL_674755148b014a4cbd6106153fa84318",
      "placeholder": "​",
      "style": "IPY_MODEL_627143f2a7564b59a6b5c09dffa43d42",
      "value": "Generating splits...: 100%"
     }
    },
    "df0f912726994c019f68b3347c03d855": {
     "model_module": "@jupyter-widgets/base",
     "model_module_version": "1.2.0",
     "model_name": "LayoutModel",
     "state": {
      "_model_module": "@jupyter-widgets/base",
      "_model_module_version": "1.2.0",
      "_model_name": "LayoutModel",
      "_view_count": null,
      "_view_module": "@jupyter-widgets/base",
      "_view_module_version": "1.2.0",
      "_view_name": "LayoutView",
      "align_content": null,
      "align_items": null,
      "align_self": null,
      "border": null,
      "bottom": null,
      "display": null,
      "flex": null,
      "flex_flow": null,
      "grid_area": null,
      "grid_auto_columns": null,
      "grid_auto_flow": null,
      "grid_auto_rows": null,
      "grid_column": null,
      "grid_gap": null,
      "grid_row": null,
      "grid_template_areas": null,
      "grid_template_columns": null,
      "grid_template_rows": null,
      "height": null,
      "justify_content": null,
      "justify_items": null,
      "left": null,
      "margin": null,
      "max_height": null,
      "max_width": null,
      "min_height": null,
      "min_width": null,
      "object_fit": null,
      "object_position": null,
      "order": null,
      "overflow": null,
      "overflow_x": null,
      "overflow_y": null,
      "padding": null,
      "right": null,
      "top": null,
      "visibility": "hidden",
      "width": null
     }
    },
    "e08890cba4094573a4468b6cba82b02f": {
     "model_module": "@jupyter-widgets/controls",
     "model_module_version": "1.5.0",
     "model_name": "FloatProgressModel",
     "state": {
      "_dom_classes": [],
      "_model_module": "@jupyter-widgets/controls",
      "_model_module_version": "1.5.0",
      "_model_name": "FloatProgressModel",
      "_view_count": null,
      "_view_module": "@jupyter-widgets/controls",
      "_view_module_version": "1.5.0",
      "_view_name": "ProgressView",
      "bar_style": "",
      "description": "",
      "description_tooltip": null,
      "layout": "IPY_MODEL_210ecba3cf0540189e479fb6a0c061d2",
      "max": 2520,
      "min": 0,
      "orientation": "horizontal",
      "style": "IPY_MODEL_1e66f7a709e04b7f8cac3059cd34f094",
      "value": 2520
     }
    },
    "e6ab91e878664e52929072f0b4b469cd": {
     "model_module": "@jupyter-widgets/base",
     "model_module_version": "1.2.0",
     "model_name": "LayoutModel",
     "state": {
      "_model_module": "@jupyter-widgets/base",
      "_model_module_version": "1.2.0",
      "_model_name": "LayoutModel",
      "_view_count": null,
      "_view_module": "@jupyter-widgets/base",
      "_view_module_version": "1.2.0",
      "_view_name": "LayoutView",
      "align_content": null,
      "align_items": null,
      "align_self": null,
      "border": null,
      "bottom": null,
      "display": null,
      "flex": null,
      "flex_flow": null,
      "grid_area": null,
      "grid_auto_columns": null,
      "grid_auto_flow": null,
      "grid_auto_rows": null,
      "grid_column": null,
      "grid_gap": null,
      "grid_row": null,
      "grid_template_areas": null,
      "grid_template_columns": null,
      "grid_template_rows": null,
      "height": null,
      "justify_content": null,
      "justify_items": null,
      "left": null,
      "margin": null,
      "max_height": null,
      "max_width": null,
      "min_height": null,
      "min_width": null,
      "object_fit": null,
      "object_position": null,
      "order": null,
      "overflow": null,
      "overflow_x": null,
      "overflow_y": null,
      "padding": null,
      "right": null,
      "top": null,
      "visibility": "hidden",
      "width": null
     }
    },
    "e6b8bf9f5af04f3b9325616f9d9ea9ae": {
     "model_module": "@jupyter-widgets/base",
     "model_module_version": "1.2.0",
     "model_name": "LayoutModel",
     "state": {
      "_model_module": "@jupyter-widgets/base",
      "_model_module_version": "1.2.0",
      "_model_name": "LayoutModel",
      "_view_count": null,
      "_view_module": "@jupyter-widgets/base",
      "_view_module_version": "1.2.0",
      "_view_name": "LayoutView",
      "align_content": null,
      "align_items": null,
      "align_self": null,
      "border": null,
      "bottom": null,
      "display": null,
      "flex": null,
      "flex_flow": null,
      "grid_area": null,
      "grid_auto_columns": null,
      "grid_auto_flow": null,
      "grid_auto_rows": null,
      "grid_column": null,
      "grid_gap": null,
      "grid_row": null,
      "grid_template_areas": null,
      "grid_template_columns": null,
      "grid_template_rows": null,
      "height": null,
      "justify_content": null,
      "justify_items": null,
      "left": null,
      "margin": null,
      "max_height": null,
      "max_width": null,
      "min_height": null,
      "min_width": null,
      "object_fit": null,
      "object_position": null,
      "order": null,
      "overflow": null,
      "overflow_x": null,
      "overflow_y": null,
      "padding": null,
      "right": null,
      "top": null,
      "visibility": null,
      "width": null
     }
    },
    "f07ccf2e7baa41cfaba7013c0e8972ed": {
     "model_module": "@jupyter-widgets/controls",
     "model_module_version": "1.5.0",
     "model_name": "DescriptionStyleModel",
     "state": {
      "_model_module": "@jupyter-widgets/controls",
      "_model_module_version": "1.5.0",
      "_model_name": "DescriptionStyleModel",
      "_view_count": null,
      "_view_module": "@jupyter-widgets/base",
      "_view_module_version": "1.2.0",
      "_view_name": "StyleView",
      "description_width": ""
     }
    },
    "f375ad81b0f94a09b50a2117ac5b1160": {
     "model_module": "@jupyter-widgets/base",
     "model_module_version": "1.2.0",
     "model_name": "LayoutModel",
     "state": {
      "_model_module": "@jupyter-widgets/base",
      "_model_module_version": "1.2.0",
      "_model_name": "LayoutModel",
      "_view_count": null,
      "_view_module": "@jupyter-widgets/base",
      "_view_module_version": "1.2.0",
      "_view_name": "LayoutView",
      "align_content": null,
      "align_items": null,
      "align_self": null,
      "border": null,
      "bottom": null,
      "display": null,
      "flex": null,
      "flex_flow": null,
      "grid_area": null,
      "grid_auto_columns": null,
      "grid_auto_flow": null,
      "grid_auto_rows": null,
      "grid_column": null,
      "grid_gap": null,
      "grid_row": null,
      "grid_template_areas": null,
      "grid_template_columns": null,
      "grid_template_rows": null,
      "height": null,
      "justify_content": null,
      "justify_items": null,
      "left": null,
      "margin": null,
      "max_height": null,
      "max_width": null,
      "min_height": null,
      "min_width": null,
      "object_fit": null,
      "object_position": null,
      "order": null,
      "overflow": null,
      "overflow_x": null,
      "overflow_y": null,
      "padding": null,
      "right": null,
      "top": null,
      "visibility": null,
      "width": "20px"
     }
    },
    "f6bce899dfff414e8dd091de4beed16f": {
     "model_module": "@jupyter-widgets/base",
     "model_module_version": "1.2.0",
     "model_name": "LayoutModel",
     "state": {
      "_model_module": "@jupyter-widgets/base",
      "_model_module_version": "1.2.0",
      "_model_name": "LayoutModel",
      "_view_count": null,
      "_view_module": "@jupyter-widgets/base",
      "_view_module_version": "1.2.0",
      "_view_name": "LayoutView",
      "align_content": null,
      "align_items": null,
      "align_self": null,
      "border": null,
      "bottom": null,
      "display": null,
      "flex": null,
      "flex_flow": null,
      "grid_area": null,
      "grid_auto_columns": null,
      "grid_auto_flow": null,
      "grid_auto_rows": null,
      "grid_column": null,
      "grid_gap": null,
      "grid_row": null,
      "grid_template_areas": null,
      "grid_template_columns": null,
      "grid_template_rows": null,
      "height": null,
      "justify_content": null,
      "justify_items": null,
      "left": null,
      "margin": null,
      "max_height": null,
      "max_width": null,
      "min_height": null,
      "min_width": null,
      "object_fit": null,
      "object_position": null,
      "order": null,
      "overflow": null,
      "overflow_x": null,
      "overflow_y": null,
      "padding": null,
      "right": null,
      "top": null,
      "visibility": null,
      "width": null
     }
    },
    "f9f496c9125546238394422f2aca11f5": {
     "model_module": "@jupyter-widgets/controls",
     "model_module_version": "1.5.0",
     "model_name": "DescriptionStyleModel",
     "state": {
      "_model_module": "@jupyter-widgets/controls",
      "_model_module_version": "1.5.0",
      "_model_name": "DescriptionStyleModel",
      "_view_count": null,
      "_view_module": "@jupyter-widgets/base",
      "_view_module_version": "1.2.0",
      "_view_name": "StyleView",
      "description_width": ""
     }
    },
    "fcb9b1dda8c649bc8517dc508a2af05c": {
     "model_module": "@jupyter-widgets/base",
     "model_module_version": "1.2.0",
     "model_name": "LayoutModel",
     "state": {
      "_model_module": "@jupyter-widgets/base",
      "_model_module_version": "1.2.0",
      "_model_name": "LayoutModel",
      "_view_count": null,
      "_view_module": "@jupyter-widgets/base",
      "_view_module_version": "1.2.0",
      "_view_name": "LayoutView",
      "align_content": null,
      "align_items": null,
      "align_self": null,
      "border": null,
      "bottom": null,
      "display": null,
      "flex": null,
      "flex_flow": null,
      "grid_area": null,
      "grid_auto_columns": null,
      "grid_auto_flow": null,
      "grid_auto_rows": null,
      "grid_column": null,
      "grid_gap": null,
      "grid_row": null,
      "grid_template_areas": null,
      "grid_template_columns": null,
      "grid_template_rows": null,
      "height": null,
      "justify_content": null,
      "justify_items": null,
      "left": null,
      "margin": null,
      "max_height": null,
      "max_width": null,
      "min_height": null,
      "min_width": null,
      "object_fit": null,
      "object_position": null,
      "order": null,
      "overflow": null,
      "overflow_x": null,
      "overflow_y": null,
      "padding": null,
      "right": null,
      "top": null,
      "visibility": null,
      "width": null
     }
    },
    "fdb4683e073d4340b73117841d4b05ba": {
     "model_module": "@jupyter-widgets/controls",
     "model_module_version": "1.5.0",
     "model_name": "HTMLModel",
     "state": {
      "_dom_classes": [],
      "_model_module": "@jupyter-widgets/controls",
      "_model_module_version": "1.5.0",
      "_model_name": "HTMLModel",
      "_view_count": null,
      "_view_module": "@jupyter-widgets/controls",
      "_view_module_version": "1.5.0",
      "_view_name": "HTMLView",
      "description": "",
      "description_tooltip": null,
      "layout": "IPY_MODEL_5f617997c0ef4f8aa04f987b4a4b204a",
      "placeholder": "​",
      "style": "IPY_MODEL_cb06c62d375143c68a6a12abc398729f",
      "value": "Generating train examples...: "
     }
    },
    "fe55cf7a22b34cdd8dcab3dc917b7180": {
     "model_module": "@jupyter-widgets/base",
     "model_module_version": "1.2.0",
     "model_name": "LayoutModel",
     "state": {
      "_model_module": "@jupyter-widgets/base",
      "_model_module_version": "1.2.0",
      "_model_name": "LayoutModel",
      "_view_count": null,
      "_view_module": "@jupyter-widgets/base",
      "_view_module_version": "1.2.0",
      "_view_name": "LayoutView",
      "align_content": null,
      "align_items": null,
      "align_self": null,
      "border": null,
      "bottom": null,
      "display": null,
      "flex": null,
      "flex_flow": null,
      "grid_area": null,
      "grid_auto_columns": null,
      "grid_auto_flow": null,
      "grid_auto_rows": null,
      "grid_column": null,
      "grid_gap": null,
      "grid_row": null,
      "grid_template_areas": null,
      "grid_template_columns": null,
      "grid_template_rows": null,
      "height": null,
      "justify_content": null,
      "justify_items": null,
      "left": null,
      "margin": null,
      "max_height": null,
      "max_width": null,
      "min_height": null,
      "min_width": null,
      "object_fit": null,
      "object_position": null,
      "order": null,
      "overflow": null,
      "overflow_x": null,
      "overflow_y": null,
      "padding": null,
      "right": null,
      "top": null,
      "visibility": null,
      "width": null
     }
    }
   }
  }
 },
 "nbformat": 4,
 "nbformat_minor": 0
}
