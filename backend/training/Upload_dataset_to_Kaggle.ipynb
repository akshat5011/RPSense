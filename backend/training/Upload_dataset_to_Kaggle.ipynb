{
 "cells": [
  {
   "cell_type": "code",
   "execution_count": null,
   "metadata": {
    "colab": {
     "base_uri": "https://localhost:8080/"
    },
    "executionInfo": {
     "elapsed": 25582,
     "status": "ok",
     "timestamp": 1751883988435,
     "user": {
      "displayName": "Akshat",
      "userId": "02656238651709843440"
     },
     "user_tz": -330
    },
    "id": "JYnvoqFda8lf",
    "outputId": "4b14b01f-a748-4d23-fe63-1fdfb5cb27b4"
   },
   "outputs": [],
   "source": [
    "from google.colab import drive\n",
    "drive.mount('/content/drive')"
   ]
  },
  {
   "cell_type": "code",
   "execution_count": null,
   "metadata": {
    "colab": {
     "base_uri": "https://localhost:8080/"
    },
    "executionInfo": {
     "elapsed": 9190,
     "status": "ok",
     "timestamp": 1751883877701,
     "user": {
      "displayName": "Akshat",
      "userId": "02656238651709843440"
     },
     "user_tz": -330
    },
    "id": "S_2yaV5dXeUz",
    "outputId": "051c90f9-a72a-458c-a0ed-c8e73e057a04"
   },
   "outputs": [],
   "source": [
    "!pip install kaggle"
   ]
  },
  {
   "cell_type": "code",
   "execution_count": null,
   "metadata": {},
   "outputs": [],
   "source": [
    "# ⚠️ IMPORTANT: Upload your kaggle.json file here\n",
    "# Download kaggle.json from: https://www.kaggle.com/settings/account (API section)\n",
    "# NEVER commit this file to version control!\n",
    "\n",
    "# from google.colab import files \n",
    "# files.upload()  # Uncomment and upload your kaggle.json when running"
   ]
  },
  {
   "cell_type": "code",
   "execution_count": null,
   "metadata": {
    "executionInfo": {
     "elapsed": 323,
     "status": "ok",
     "timestamp": 1751883903461,
     "user": {
      "displayName": "Akshat",
      "userId": "02656238651709843440"
     },
     "user_tz": -330
    },
    "id": "RHgKyuAOatkC"
   },
   "outputs": [],
   "source": [
    "!mkdir -p ~/.kaggle\n",
    "!cp kaggle.json ~/.kaggle/\n",
    "!chmod 600 ~/.kaggle/kaggle.json\n"
   ]
  },
  {
   "cell_type": "code",
   "execution_count": null,
   "metadata": {
    "id": "lcquhQJha3SB"
   },
   "outputs": [],
   "source": [
    "!zip -r RPSense.zip /content/drive/MyDrive/RPSense_Dataset/dataset\n"
   ]
  },
  {
   "cell_type": "code",
   "execution_count": null,
   "metadata": {
    "executionInfo": {
     "elapsed": 115,
     "status": "ok",
     "timestamp": 1751884792030,
     "user": {
      "displayName": "Akshat",
      "userId": "02656238651709843440"
     },
     "user_tz": -330
    },
    "id": "TGHppGhReHqS"
   },
   "outputs": [],
   "source": [
    "!mkdir -p /content/kaggle_upload\n"
   ]
  },
  {
   "cell_type": "code",
   "execution_count": null,
   "metadata": {
    "executionInfo": {
     "elapsed": 539959,
     "status": "ok",
     "timestamp": 1751885334319,
     "user": {
      "displayName": "Akshat",
      "userId": "02656238651709843440"
     },
     "user_tz": -330
    },
    "id": "C6D9TQ5feFk6"
   },
   "outputs": [],
   "source": [
    "!cp -r /content/drive/MyDrive/RPSense_Dataset/dataset/* /content/kaggle_upload/\n"
   ]
  },
  {
   "cell_type": "code",
   "execution_count": null,
   "metadata": {
    "executionInfo": {
     "elapsed": 106,
     "status": "ok",
     "timestamp": 1751885390335,
     "user": {
      "displayName": "Akshat",
      "userId": "02656238651709843440"
     },
     "user_tz": -330
    },
    "id": "NL99_kE0bL6J"
   },
   "outputs": [],
   "source": [
    "import json\n",
    "\n",
    "dataset_metadata = {\n",
    "    \"title\": \"RPSense Dataset\",\n",
    "    \"id\": \"akshat2k4/rpsense-dataset\",\n",
    "    \"licenses\": [{\"name\": \"CC0-1.0\"}],\n",
    "    #  \"private\": True  # <-- This makes it private\n",
    "}\n",
    "\n",
    "with open('/content/kaggle_upload/dataset-metadata.json', 'w') as f:\n",
    "    json.dump(dataset_metadata, f)\n"
   ]
  },
  {
   "cell_type": "code",
   "execution_count": null,
   "metadata": {
    "colab": {
     "base_uri": "https://localhost:8080/"
    },
    "executionInfo": {
     "elapsed": 203961,
     "status": "ok",
     "timestamp": 1751885727190,
     "user": {
      "displayName": "Akshat",
      "userId": "02656238651709843440"
     },
     "user_tz": -330
    },
    "id": "icmHJ8TbbteK",
    "outputId": "365b60cd-26ef-44f6-e328-041d10c03aa1"
   },
   "outputs": [],
   "source": [
    "!kaggle datasets create -p /content/kaggle_upload --dir-mode zip -u\n"
   ]
  }
 ],
 "metadata": {
  "colab": {
   "authorship_tag": "ABX9TyOXjEkLPBgachuGcHrWd/gp",
   "provenance": []
  },
  "kernelspec": {
   "display_name": "Python 3",
   "name": "python3"
  },
  "language_info": {
   "name": "python"
  }
 },
 "nbformat": 4,
 "nbformat_minor": 0
}
